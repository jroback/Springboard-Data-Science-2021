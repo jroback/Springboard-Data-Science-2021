{
 "cells": [
  {
   "cell_type": "markdown",
   "id": "a715753c",
   "metadata": {
    "toc": true
   },
   "source": [
    "<h1>Table of Contents<span class=\"tocSkip\"></span></h1>\n",
    "<div class=\"toc\"><ul class=\"toc-item\"><li><span><a href=\"#Summary\" data-toc-modified-id=\"Summary-1\"><span class=\"toc-item-num\">1&nbsp;&nbsp;</span>Summary</a></span><ul class=\"toc-item\"><li><span><a href=\"#Intent\" data-toc-modified-id=\"Intent-1.1\"><span class=\"toc-item-num\">1.1&nbsp;&nbsp;</span>Intent</a></span></li><li><span><a href=\"#Learnings\" data-toc-modified-id=\"Learnings-1.2\"><span class=\"toc-item-num\">1.2&nbsp;&nbsp;</span>Learnings</a></span></li></ul></li><li><span><a href=\"#Data\" data-toc-modified-id=\"Data-2\"><span class=\"toc-item-num\">2&nbsp;&nbsp;</span>Data</a></span></li><li><span><a href=\"#Dimensionality-Reduction\" data-toc-modified-id=\"Dimensionality-Reduction-3\"><span class=\"toc-item-num\">3&nbsp;&nbsp;</span>Dimensionality Reduction</a></span><ul class=\"toc-item\"><li><span><a href=\"#RFE-Feature-Elimination\" data-toc-modified-id=\"RFE-Feature-Elimination-3.1\"><span class=\"toc-item-num\">3.1&nbsp;&nbsp;</span>RFE Feature Elimination</a></span></li></ul></li><li><span><a href=\"#SGD-on-Top-Features\" data-toc-modified-id=\"SGD-on-Top-Features-4\"><span class=\"toc-item-num\">4&nbsp;&nbsp;</span>SGD on Top Features</a></span><ul class=\"toc-item\"><li><span><a href=\"#Predict-&amp;-Visualize-SGD\" data-toc-modified-id=\"Predict-&amp;-Visualize-SGD-4.1\"><span class=\"toc-item-num\">4.1&nbsp;&nbsp;</span>Predict &amp; Visualize SGD</a></span></li><li><span><a href=\"#SGD-Parameter-Tuning\" data-toc-modified-id=\"SGD-Parameter-Tuning-4.2\"><span class=\"toc-item-num\">4.2&nbsp;&nbsp;</span>SGD Parameter Tuning</a></span></li></ul></li></ul></div>"
   ]
  },
  {
   "cell_type": "markdown",
   "id": "ce49a279",
   "metadata": {},
   "source": [
    "## Summary"
   ]
  },
  {
   "cell_type": "markdown",
   "id": "12c49cb2",
   "metadata": {},
   "source": [
    "### Intent"
   ]
  },
  {
   "cell_type": "markdown",
   "id": "f1738d73",
   "metadata": {},
   "source": [
    "The intent of this notebook is to explore regression models on the BAV dataset. The goal to identify the ideal model to predict the score of a brand to be \"Recommended to Friend\"—attribute used as a proxy for brand strength.   \n",
    "\n",
    "In addition to the modelling itself, this notebook explores the result of various dimensionality reduction techniques in conjunction with the various models."
   ]
  },
  {
   "cell_type": "markdown",
   "id": "82c5df3a",
   "metadata": {},
   "source": [
    "### Learnings"
   ]
  },
  {
   "cell_type": "markdown",
   "id": "d3112c00",
   "metadata": {},
   "source": [
    "Note for Paolo: 1 of 3 models attempted so far. Rough Plan:\n",
    "\n",
    "1. SGD with top 10 features identified through Feature Elimation\n",
    "2. Random Forrest with top features identified/grouped through Factor Analysis\n",
    "3. Logistic Regression with top features identified through High Correlation filtering and/or Low Variance Filtering\n",
    "\n",
    "Then some type of approach to select the best/most appropriate combination."
   ]
  },
  {
   "cell_type": "markdown",
   "id": "dcce36d6",
   "metadata": {},
   "source": [
    "## Data"
   ]
  },
  {
   "cell_type": "code",
   "execution_count": 25,
   "id": "6ab3392c",
   "metadata": {},
   "outputs": [],
   "source": [
    "import pandas as pd\n",
    "import numpy as np\n",
    "import matplotlib.pyplot as plt\n",
    "from matplotlib.pyplot import figure\n",
    "import seaborn as sns\n",
    "import os\n",
    "import requests\n",
    "import numpy as np\n",
    "import time\n",
    "from sklearn.feature_selection import RFE\n",
    "from sklearn.svm import SVR\n",
    "from sklearn.metrics import mean_squared_error,mean_absolute_error\n",
    "\n",
    "from sklearn.linear_model import SGDRegressor\n",
    "from sklearn.model_selection import train_test_split"
   ]
  },
  {
   "cell_type": "code",
   "execution_count": 2,
   "id": "5cb0d063",
   "metadata": {},
   "outputs": [],
   "source": [
    "# Read in data from pre-processing stage\n",
    "BAV_df = pd.read_csv(\"../data/BAV_unscaled.csv\")\n",
    "BAV_scaled = pd.read_csv(\"../data/BAV_scaled.csv\")"
   ]
  },
  {
   "cell_type": "markdown",
   "id": "73266205",
   "metadata": {},
   "source": [
    "## Dimensionality Reduction"
   ]
  },
  {
   "cell_type": "markdown",
   "id": "4e732733",
   "metadata": {},
   "source": [
    "### RFE Feature Elimination"
   ]
  },
  {
   "cell_type": "code",
   "execution_count": 3,
   "id": "0e6f95eb",
   "metadata": {},
   "outputs": [
    {
     "data": {
      "text/html": [
       "<div>\n",
       "<style scoped>\n",
       "    .dataframe tbody tr th:only-of-type {\n",
       "        vertical-align: middle;\n",
       "    }\n",
       "\n",
       "    .dataframe tbody tr th {\n",
       "        vertical-align: top;\n",
       "    }\n",
       "\n",
       "    .dataframe thead th {\n",
       "        text-align: right;\n",
       "    }\n",
       "</style>\n",
       "<table border=\"1\" class=\"dataframe\">\n",
       "  <thead>\n",
       "    <tr style=\"text-align: right;\">\n",
       "      <th></th>\n",
       "      <th>Recommend_to_a_friend_pct</th>\n",
       "      <th>Energized_Differentiation_C</th>\n",
       "      <th>Relevance_C</th>\n",
       "      <th>Esteem_C</th>\n",
       "      <th>Knowledge_C</th>\n",
       "      <th>Brand_Stature_C</th>\n",
       "      <th>Brand_Strength_C</th>\n",
       "      <th>Different_pct</th>\n",
       "      <th>Distinctive_pct</th>\n",
       "      <th>Unique_pct</th>\n",
       "      <th>...</th>\n",
       "      <th>Stylish_pct</th>\n",
       "      <th>Traditional_pct</th>\n",
       "      <th>Trendy_pct</th>\n",
       "      <th>Trustworthy_pct</th>\n",
       "      <th>Unapproachable_pct</th>\n",
       "      <th>Up_To_Date_pct</th>\n",
       "      <th>Upper_Class_pct</th>\n",
       "      <th>Visionary_pct</th>\n",
       "      <th>Worth_More_pct</th>\n",
       "      <th>yr_2019</th>\n",
       "    </tr>\n",
       "    <tr>\n",
       "      <th>Brand</th>\n",
       "      <th></th>\n",
       "      <th></th>\n",
       "      <th></th>\n",
       "      <th></th>\n",
       "      <th></th>\n",
       "      <th></th>\n",
       "      <th></th>\n",
       "      <th></th>\n",
       "      <th></th>\n",
       "      <th></th>\n",
       "      <th></th>\n",
       "      <th></th>\n",
       "      <th></th>\n",
       "      <th></th>\n",
       "      <th></th>\n",
       "      <th></th>\n",
       "      <th></th>\n",
       "      <th></th>\n",
       "      <th></th>\n",
       "      <th></th>\n",
       "      <th></th>\n",
       "    </tr>\n",
       "  </thead>\n",
       "  <tbody>\n",
       "    <tr>\n",
       "      <th>Acura</th>\n",
       "      <td>9.632626</td>\n",
       "      <td>0.588681</td>\n",
       "      <td>2.131318</td>\n",
       "      <td>0.536944</td>\n",
       "      <td>3.303892</td>\n",
       "      <td>1.774005</td>\n",
       "      <td>1.254666</td>\n",
       "      <td>8.081687</td>\n",
       "      <td>12.271390</td>\n",
       "      <td>8.301122</td>\n",
       "      <td>...</td>\n",
       "      <td>15.710160</td>\n",
       "      <td>6.446314</td>\n",
       "      <td>14.55371</td>\n",
       "      <td>16.099440</td>\n",
       "      <td>5.703656</td>\n",
       "      <td>11.032270</td>\n",
       "      <td>15.302950</td>\n",
       "      <td>12.951940</td>\n",
       "      <td>6.352579</td>\n",
       "      <td>0</td>\n",
       "    </tr>\n",
       "    <tr>\n",
       "      <th>Alfa Romeo</th>\n",
       "      <td>5.360558</td>\n",
       "      <td>0.771191</td>\n",
       "      <td>1.648400</td>\n",
       "      <td>0.351125</td>\n",
       "      <td>2.040411</td>\n",
       "      <td>0.716439</td>\n",
       "      <td>1.271231</td>\n",
       "      <td>11.130420</td>\n",
       "      <td>17.817520</td>\n",
       "      <td>13.124450</td>\n",
       "      <td>...</td>\n",
       "      <td>17.267210</td>\n",
       "      <td>7.225183</td>\n",
       "      <td>14.87083</td>\n",
       "      <td>9.865144</td>\n",
       "      <td>10.311310</td>\n",
       "      <td>10.518590</td>\n",
       "      <td>25.941139</td>\n",
       "      <td>9.230522</td>\n",
       "      <td>8.130341</td>\n",
       "      <td>0</td>\n",
       "    </tr>\n",
       "    <tr>\n",
       "      <th>Aston Martin</th>\n",
       "      <td>6.165359</td>\n",
       "      <td>0.777430</td>\n",
       "      <td>1.568270</td>\n",
       "      <td>0.347223</td>\n",
       "      <td>2.272228</td>\n",
       "      <td>0.788971</td>\n",
       "      <td>1.219220</td>\n",
       "      <td>11.082860</td>\n",
       "      <td>18.486561</td>\n",
       "      <td>13.061050</td>\n",
       "      <td>...</td>\n",
       "      <td>16.646311</td>\n",
       "      <td>5.149739</td>\n",
       "      <td>12.15355</td>\n",
       "      <td>9.925730</td>\n",
       "      <td>9.625601</td>\n",
       "      <td>7.878853</td>\n",
       "      <td>30.506660</td>\n",
       "      <td>10.001760</td>\n",
       "      <td>8.295667</td>\n",
       "      <td>0</td>\n",
       "    </tr>\n",
       "    <tr>\n",
       "      <th>Audi</th>\n",
       "      <td>8.403893</td>\n",
       "      <td>0.773740</td>\n",
       "      <td>1.970076</td>\n",
       "      <td>0.536370</td>\n",
       "      <td>3.247704</td>\n",
       "      <td>1.741970</td>\n",
       "      <td>1.524328</td>\n",
       "      <td>9.503444</td>\n",
       "      <td>16.048050</td>\n",
       "      <td>11.872650</td>\n",
       "      <td>...</td>\n",
       "      <td>18.800541</td>\n",
       "      <td>8.386318</td>\n",
       "      <td>15.85582</td>\n",
       "      <td>12.400040</td>\n",
       "      <td>6.730000</td>\n",
       "      <td>10.951970</td>\n",
       "      <td>21.809719</td>\n",
       "      <td>11.357830</td>\n",
       "      <td>8.388798</td>\n",
       "      <td>0</td>\n",
       "    </tr>\n",
       "    <tr>\n",
       "      <th>Bentley</th>\n",
       "      <td>6.453038</td>\n",
       "      <td>0.790917</td>\n",
       "      <td>1.605834</td>\n",
       "      <td>0.500165</td>\n",
       "      <td>2.720615</td>\n",
       "      <td>1.360756</td>\n",
       "      <td>1.270082</td>\n",
       "      <td>11.227820</td>\n",
       "      <td>19.309050</td>\n",
       "      <td>14.956740</td>\n",
       "      <td>...</td>\n",
       "      <td>19.569870</td>\n",
       "      <td>11.032830</td>\n",
       "      <td>12.52582</td>\n",
       "      <td>12.685470</td>\n",
       "      <td>11.473560</td>\n",
       "      <td>9.141562</td>\n",
       "      <td>34.941780</td>\n",
       "      <td>9.720911</td>\n",
       "      <td>10.133530</td>\n",
       "      <td>0</td>\n",
       "    </tr>\n",
       "  </tbody>\n",
       "</table>\n",
       "<p>5 rows × 56 columns</p>\n",
       "</div>"
      ],
      "text/plain": [
       "              Recommend_to_a_friend_pct  Energized_Differentiation_C  \\\n",
       "Brand                                                                  \n",
       "Acura                          9.632626                     0.588681   \n",
       "Alfa Romeo                     5.360558                     0.771191   \n",
       "Aston Martin                   6.165359                     0.777430   \n",
       "Audi                           8.403893                     0.773740   \n",
       "Bentley                        6.453038                     0.790917   \n",
       "\n",
       "              Relevance_C  Esteem_C  Knowledge_C  Brand_Stature_C  \\\n",
       "Brand                                                               \n",
       "Acura            2.131318  0.536944     3.303892         1.774005   \n",
       "Alfa Romeo       1.648400  0.351125     2.040411         0.716439   \n",
       "Aston Martin     1.568270  0.347223     2.272228         0.788971   \n",
       "Audi             1.970076  0.536370     3.247704         1.741970   \n",
       "Bentley          1.605834  0.500165     2.720615         1.360756   \n",
       "\n",
       "              Brand_Strength_C  Different_pct  Distinctive_pct  Unique_pct  \\\n",
       "Brand                                                                        \n",
       "Acura                 1.254666       8.081687        12.271390    8.301122   \n",
       "Alfa Romeo            1.271231      11.130420        17.817520   13.124450   \n",
       "Aston Martin          1.219220      11.082860        18.486561   13.061050   \n",
       "Audi                  1.524328       9.503444        16.048050   11.872650   \n",
       "Bentley               1.270082      11.227820        19.309050   14.956740   \n",
       "\n",
       "              ...  Stylish_pct  Traditional_pct  Trendy_pct  Trustworthy_pct  \\\n",
       "Brand         ...                                                              \n",
       "Acura         ...    15.710160         6.446314    14.55371        16.099440   \n",
       "Alfa Romeo    ...    17.267210         7.225183    14.87083         9.865144   \n",
       "Aston Martin  ...    16.646311         5.149739    12.15355         9.925730   \n",
       "Audi          ...    18.800541         8.386318    15.85582        12.400040   \n",
       "Bentley       ...    19.569870        11.032830    12.52582        12.685470   \n",
       "\n",
       "              Unapproachable_pct  Up_To_Date_pct  Upper_Class_pct  \\\n",
       "Brand                                                               \n",
       "Acura                   5.703656       11.032270        15.302950   \n",
       "Alfa Romeo             10.311310       10.518590        25.941139   \n",
       "Aston Martin            9.625601        7.878853        30.506660   \n",
       "Audi                    6.730000       10.951970        21.809719   \n",
       "Bentley                11.473560        9.141562        34.941780   \n",
       "\n",
       "              Visionary_pct  Worth_More_pct  yr_2019  \n",
       "Brand                                                 \n",
       "Acura             12.951940        6.352579        0  \n",
       "Alfa Romeo         9.230522        8.130341        0  \n",
       "Aston Martin      10.001760        8.295667        0  \n",
       "Audi              11.357830        8.388798        0  \n",
       "Bentley            9.720911       10.133530        0  \n",
       "\n",
       "[5 rows x 56 columns]"
      ]
     },
     "execution_count": 3,
     "metadata": {},
     "output_type": "execute_result"
    }
   ],
   "source": [
    "BAV_df = BAV_df.set_index('Unnamed: 0')\n",
    "BAV_df.index.rename('Brand', inplace=True)\n",
    "BAV_df.head()"
   ]
  },
  {
   "cell_type": "code",
   "execution_count": 4,
   "id": "979ec7df",
   "metadata": {},
   "outputs": [
    {
     "data": {
      "text/plain": [
       "<bound method BaseEstimator.get_params of RFE(estimator=SVR(kernel='linear'), n_features_to_select=10)>"
      ]
     },
     "execution_count": 4,
     "metadata": {},
     "output_type": "execute_result"
    }
   ],
   "source": [
    "# Isolate features and target\n",
    "# Unscaled data\n",
    "X = BAV_df.drop(['Recommend_to_a_friend_pct'], axis=1)\n",
    "y = BAV_df['Recommend_to_a_friend_pct']\n",
    "\n",
    "estimator = SVR(kernel=\"linear\")\n",
    "selector = RFE(estimator, n_features_to_select=10, step=1)\n",
    "selector = selector.fit(X, y)\n",
    "selector.get_params"
   ]
  },
  {
   "cell_type": "code",
   "execution_count": 5,
   "id": "91966e94",
   "metadata": {},
   "outputs": [
    {
     "data": {
      "text/plain": [
       "array([46,  1,  1,  1,  1,  7, 30, 29, 42, 38,  1,  3, 16, 12, 17, 39,  1,\n",
       "       28, 18, 36, 24, 26, 14, 25, 37,  5,  4, 33, 22, 44, 45, 19, 43, 41,\n",
       "       34, 27,  8, 32, 31,  6, 23,  1, 11,  9, 40, 21,  2,  1, 35,  1, 15,\n",
       "       13, 20,  1, 10])"
      ]
     },
     "execution_count": 5,
     "metadata": {},
     "output_type": "execute_result"
    }
   ],
   "source": [
    "# Look at the ranking of all thea features\n",
    "# 1s indicate the index of a top 10 feature\n",
    "selector.ranking_"
   ]
  },
  {
   "cell_type": "code",
   "execution_count": 11,
   "id": "7090c705",
   "metadata": {},
   "outputs": [
    {
     "data": {
      "text/html": [
       "<div>\n",
       "<style scoped>\n",
       "    .dataframe tbody tr th:only-of-type {\n",
       "        vertical-align: middle;\n",
       "    }\n",
       "\n",
       "    .dataframe tbody tr th {\n",
       "        vertical-align: top;\n",
       "    }\n",
       "\n",
       "    .dataframe thead th {\n",
       "        text-align: right;\n",
       "    }\n",
       "</style>\n",
       "<table border=\"1\" class=\"dataframe\">\n",
       "  <thead>\n",
       "    <tr style=\"text-align: right;\">\n",
       "      <th></th>\n",
       "      <th>Feature</th>\n",
       "      <th>Ranking</th>\n",
       "    </tr>\n",
       "  </thead>\n",
       "  <tbody>\n",
       "    <tr>\n",
       "      <th>1</th>\n",
       "      <td>Relevance_C</td>\n",
       "      <td>1</td>\n",
       "    </tr>\n",
       "    <tr>\n",
       "      <th>2</th>\n",
       "      <td>Esteem_C</td>\n",
       "      <td>1</td>\n",
       "    </tr>\n",
       "    <tr>\n",
       "      <th>3</th>\n",
       "      <td>Knowledge_C</td>\n",
       "      <td>1</td>\n",
       "    </tr>\n",
       "    <tr>\n",
       "      <th>4</th>\n",
       "      <td>Brand_Stature_C</td>\n",
       "      <td>1</td>\n",
       "    </tr>\n",
       "    <tr>\n",
       "      <th>10</th>\n",
       "      <td>Innovative_pct</td>\n",
       "      <td>1</td>\n",
       "    </tr>\n",
       "    <tr>\n",
       "      <th>16</th>\n",
       "      <td>Best_Brand_pct</td>\n",
       "      <td>1</td>\n",
       "    </tr>\n",
       "    <tr>\n",
       "      <th>41</th>\n",
       "      <td>Simple_pct</td>\n",
       "      <td>1</td>\n",
       "    </tr>\n",
       "    <tr>\n",
       "      <th>47</th>\n",
       "      <td>Trendy_pct</td>\n",
       "      <td>1</td>\n",
       "    </tr>\n",
       "    <tr>\n",
       "      <th>49</th>\n",
       "      <td>Unapproachable_pct</td>\n",
       "      <td>1</td>\n",
       "    </tr>\n",
       "    <tr>\n",
       "      <th>53</th>\n",
       "      <td>Worth_More_pct</td>\n",
       "      <td>1</td>\n",
       "    </tr>\n",
       "  </tbody>\n",
       "</table>\n",
       "</div>"
      ],
      "text/plain": [
       "               Feature  Ranking\n",
       "1          Relevance_C        1\n",
       "2             Esteem_C        1\n",
       "3          Knowledge_C        1\n",
       "4      Brand_Stature_C        1\n",
       "10      Innovative_pct        1\n",
       "16      Best_Brand_pct        1\n",
       "41          Simple_pct        1\n",
       "47          Trendy_pct        1\n",
       "49  Unapproachable_pct        1\n",
       "53      Worth_More_pct        1"
      ]
     },
     "execution_count": 11,
     "metadata": {},
     "output_type": "execute_result"
    }
   ],
   "source": [
    "# Map top features to column names\n",
    "ranked_feats = pd.DataFrame(data={'Feature': np.array(X.columns), 'Ranking': np.array(selector.ranking_)})\n",
    "top_feats = ranked_feats.loc[ranked_feats['Ranking']==1]\n",
    "top_feats.head(10)"
   ]
  },
  {
   "cell_type": "markdown",
   "id": "345d5384",
   "metadata": {},
   "source": [
    "## SGD on Top Features"
   ]
  },
  {
   "cell_type": "code",
   "execution_count": 15,
   "id": "b2d86033",
   "metadata": {},
   "outputs": [],
   "source": [
    "# Reduce to top features according to SVR\n",
    "X_top = X[top_feats.Feature.to_list()]"
   ]
  },
  {
   "cell_type": "code",
   "execution_count": 41,
   "id": "ce0d93bd",
   "metadata": {},
   "outputs": [
    {
     "data": {
      "text/plain": [
       "0.3777099515828546"
      ]
     },
     "execution_count": 41,
     "metadata": {},
     "output_type": "execute_result"
    }
   ],
   "source": [
    "X_train, X_test, y_train, y_test = train_test_split(X_top, y, test_size=0.2)\n",
    "model_sgd = SGDRegressor(max_iter=100000, tol=1e-5) # Starting point, will fine-tune next\n",
    "model_sgd.fit(X_train, y_train)\n",
    "model_sgd.score(X_train, y_train)"
   ]
  },
  {
   "cell_type": "code",
   "execution_count": 42,
   "id": "a0a9bca8",
   "metadata": {},
   "outputs": [
    {
     "data": {
      "text/plain": [
       "array([ 9.79173095, 15.46322076, 15.65113226, ..., -2.18914577,\n",
       "        7.97673668, 38.53117931])"
      ]
     },
     "execution_count": 42,
     "metadata": {},
     "output_type": "execute_result"
    }
   ],
   "source": [
    "model_sgd.predict(X_test)"
   ]
  },
  {
   "cell_type": "markdown",
   "id": "6f59d2d6",
   "metadata": {},
   "source": [
    "### Predict & Visualize SGD"
   ]
  },
  {
   "cell_type": "code",
   "execution_count": 45,
   "id": "b1fd4695",
   "metadata": {},
   "outputs": [
    {
     "data": {
      "image/png": "[encoded data removed]",
      "text/plain": [
       "<Figure size 1008x576 with 1 Axes>"
      ]
     },
     "metadata": {
      "needs_background": "light"
     },
     "output_type": "display_data"
    },
    {
     "name": "stdout",
     "output_type": "stream",
     "text": [
      "Mean Squared Error :41.5487797972711\n",
      "Mean Absolute Error :4.861398281097018\n"
     ]
    }
   ],
   "source": [
    "figure(figsize=(14, 8))\n",
    "plt.scatter(y_test, model_sgd.predict(X_test))\n",
    "plt.title('Actual Recommendation vs. Predicted')\n",
    "plt.xlabel('Actual Brand Recommend Score')\n",
    "plt.ylabel('Predicted Brand Recommend Score')\n",
    "plt.show()\n",
    "\n",
    "print('Mean Squared Error :{}'.format(mean_squared_error(y_test, model_sgd.predict(X_test))))\n",
    "print('Mean Absolute Error :{}'.format(mean_absolute_error(y_test, model_sgd.predict(X_test))))"
   ]
  },
  {
   "cell_type": "markdown",
   "id": "61929fbc",
   "metadata": {},
   "source": [
    "### SGD Parameter Tuning"
   ]
  },
  {
   "cell_type": "code",
   "execution_count": 46,
   "id": "6d36fcd4",
   "metadata": {},
   "outputs": [],
   "source": [
    "# Fine tuning to optimize learning rate and number of iterations"
   ]
  }
 ],
 "metadata": {
  "kernelspec": {
   "display_name": "Python 3",
   "language": "python",
   "name": "python3"
  },
  "language_info": {
   "codemirror_mode": {
    "name": "ipython",
    "version": 3
   },
   "file_extension": ".py",
   "mimetype": "text/x-python",
   "name": "python",
   "nbconvert_exporter": "python",
   "pygments_lexer": "ipython3",
   "version": "3.7.6"
  },
  "toc": {
   "base_numbering": 1,
   "nav_menu": {},
   "number_sections": true,
   "sideBar": true,
   "skip_h1_title": false,
   "title_cell": "Table of Contents",
   "title_sidebar": "Contents",
   "toc_cell": true,
   "toc_position": {},
   "toc_section_display": true,
   "toc_window_display": false
  },
  "varInspector": {
   "cols": {
    "lenName": 16,
    "lenType": 16,
    "lenVar": 40
   },
   "kernels_config": {
    "python": {
     "delete_cmd_postfix": "",
     "delete_cmd_prefix": "del ",
     "library": "var_list.py",
     "varRefreshCmd": "print(var_dic_list())"
    },
    "r": {
     "delete_cmd_postfix": ") ",
     "delete_cmd_prefix": "rm(",
     "library": "var_list.r",
     "varRefreshCmd": "cat(var_dic_list()) "
    }
   },
   "types_to_exclude": [
    "module",
    "function",
    "builtin_function_or_method",
    "instance",
    "_Feature"
   ],
   "window_display": false
  }
 },
 "nbformat": 4,
 "nbformat_minor": 5
}
