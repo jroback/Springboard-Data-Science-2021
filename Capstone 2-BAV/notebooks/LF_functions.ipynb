{
 "cells": [
  {
   "cell_type": "code",
   "execution_count": 24,
   "id": "12176ff0",
   "metadata": {},
   "outputs": [],
   "source": [
    "import pandas as pd\n",
    "import matplotlib.pyplot as plt\n",
    "import seaborn as sns\n",
    "import os\n",
    "import requests\n",
    "import numpy as np"
   ]
  },
  {
   "cell_type": "code",
   "execution_count": 25,
   "id": "9a7c78d6",
   "metadata": {},
   "outputs": [],
   "source": [
    "def LF_hello_world():\n",
    "    print('hello world')"
   ]
  },
  {
   "cell_type": "code",
   "execution_count": 26,
   "id": "1dbdd3a5",
   "metadata": {},
   "outputs": [],
   "source": [
    "def LF_style_countplot(title, x_label, data, xticklabels):\n",
    "    fig = plt.figure(figsize=(18, 13))\n",
    "    gs = fig.add_gridspec(1,2)\n",
    "    gs.update(wspace=0.3, hspace=0.15)\n",
    "    ax0 = fig.add_subplot(gs[0,0])\n",
    "    ax1 = fig.add_subplot(gs[0,1])\n",
    "\n",
    "    background_color = \"#000000\"\n",
    "    color_palette = [\"#FED100\",\"#FF0040\",\"#016EFF\",\"#C301F1\",\"#2EF8BE\", \"42CFF3\"]\n",
    "    fig.patch.set_facecolor(background_color) \n",
    "    ax0.set_facecolor(background_color)\n",
    "    ax1.set_facecolor(background_color) \n",
    "\n",
    "    # Title of the plot\n",
    "    ax0.text(0.5,0.5,\"{}\\n___________\".format(title),\n",
    "        horizontalalignment = 'center',\n",
    "        verticalalignment = 'center',\n",
    "        fontsize = 18,\n",
    "        fontweight='bold',\n",
    "        fontfamily='serif',\n",
    "        color='#ffffff')\n",
    "\n",
    "    ax0.set_xticklabels([])\n",
    "    ax0.set_yticklabels([])\n",
    "    ax0.tick_params(left=False, bottom=False)\n",
    "\n",
    "    # Target Count\n",
    "    #ax1.text(0.35,177, x_label, fontsize=14, fontweight='bold', fontfamily='serif', color=\"#ffffff\")\n",
    "    ax1.grid(color='#ffffff', linestyle=':', axis='y', zorder=0,  dashes=(1,5))\n",
    "    sns.countplot(ax=ax1, data=data, x=x_label, palette=color_palette)\n",
    "    ax1.set_xlabel(\"\")\n",
    "    ax1.set_ylabel(\"\")\n",
    "    ax1.set_xticklabels(xticklabels)\n",
    "\n",
    "    ax0.spines[\"top\"].set_visible(False)\n",
    "    ax0.spines[\"left\"].set_visible(False)\n",
    "    ax0.spines[\"bottom\"].set_visible(False)\n",
    "    ax0.spines[\"right\"].set_visible(False)\n",
    "    ax1.spines[\"top\"].set_visible(False)\n",
    "    ax1.spines[\"left\"].set_visible(False)\n",
    "    ax1.spines[\"right\"].set_visible(False)"
   ]
  },
  {
   "cell_type": "code",
   "execution_count": null,
   "id": "0450db42",
   "metadata": {},
   "outputs": [],
   "source": []
  }
 ],
 "metadata": {
  "kernelspec": {
   "display_name": "Python 3",
   "language": "python",
   "name": "python3"
  },
  "language_info": {
   "codemirror_mode": {
    "name": "ipython",
    "version": 3
   },
   "file_extension": ".py",
   "mimetype": "text/x-python",
   "name": "python",
   "nbconvert_exporter": "python",
   "pygments_lexer": "ipython3",
   "version": "3.7.6"
  },
  "toc": {
   "base_numbering": 1,
   "nav_menu": {},
   "number_sections": true,
   "sideBar": true,
   "skip_h1_title": false,
   "title_cell": "Table of Contents",
   "title_sidebar": "Contents",
   "toc_cell": false,
   "toc_position": {},
   "toc_section_display": true,
   "toc_window_display": false
  },
  "varInspector": {
   "cols": {
    "lenName": 16,
    "lenType": 16,
    "lenVar": 40
   },
   "kernels_config": {
    "python": {
     "delete_cmd_postfix": "",
     "delete_cmd_prefix": "del ",
     "library": "var_list.py",
     "varRefreshCmd": "print(var_dic_list())"
    },
    "r": {
     "delete_cmd_postfix": ") ",
     "delete_cmd_prefix": "rm(",
     "library": "var_list.r",
     "varRefreshCmd": "cat(var_dic_list()) "
    }
   },
   "types_to_exclude": [
    "module",
    "function",
    "builtin_function_or_method",
    "instance",
    "_Feature"
   ],
   "window_display": false
  }
 },
 "nbformat": 4,
 "nbformat_minor": 5
}
