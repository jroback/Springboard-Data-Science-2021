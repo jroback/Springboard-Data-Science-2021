{
 "cells": [
  {
   "cell_type": "markdown",
   "id": "0134577f",
   "metadata": {},
   "source": [
    "## Gather Character Data from .ttf Files"
   ]
  },
  {
   "cell_type": "code",
   "execution_count": 1,
   "id": "4800333a",
   "metadata": {},
   "outputs": [],
   "source": [
    "from PIL import Image, ImageDraw, ImageFont\n",
    "import os, sys, shutil\n",
    "from pathlib import Path\n",
    "import glob"
   ]
  },
  {
   "cell_type": "code",
   "execution_count": 27,
   "id": "463cac88",
   "metadata": {},
   "outputs": [],
   "source": [
    "import numpy as np\n",
    "import matplotlib.pyplot as plt\n",
    "import seaborn as sns\n",
    "from tqdm import tqdm\n",
    "import pandas as pd"
   ]
  },
  {
   "cell_type": "code",
   "execution_count": 3,
   "id": "f8dcfc7e",
   "metadata": {},
   "outputs": [],
   "source": [
    "import tensorflow\n",
    "from tensorflow.python.keras.layers import Input\n",
    "from tensorflow.python.keras.models import Model, Sequential\n",
    "from tensorflow.python.keras.layers.core import Dense, Dropout\n",
    "from tensorflow.python.keras.layers.advanced_activations import LeakyReLU\n",
    "from tensorflow.python.keras.preprocessing.image import ImageDataGenerator\n",
    "from tensorflow.python.keras import initializers"
   ]
  },
  {
   "cell_type": "code",
   "execution_count": 4,
   "id": "31cf8ff1",
   "metadata": {
    "code_folding": [
     7
    ]
   },
   "outputs": [],
   "source": [
    "#constants\n",
    "width, height = (224, 224)\n",
    "random_dim = 100\n",
    "os.environ['KMP_DUPLICATE_LIB_OK'] = 'True'\n",
    "\n",
    "#character set dictionary\n",
    "#limited to uppercase, lowercase and digits only\n",
    "charset = {\n",
    "    'Aa': 'A',\n",
    "    'Bb': 'B',\n",
    "    'Cc': 'C',\n",
    "    'Dd': 'D',\n",
    "    'Ee': 'E',\n",
    "    'Ff': 'F',\n",
    "    'Gg': 'G',\n",
    "    'Hh': 'H',\n",
    "    \"Ii\": 'I',\n",
    "    'Jj': 'J',\n",
    "    'Kk': 'K',\n",
    "    'Ll': 'L',\n",
    "    'Mm': 'M',\n",
    "    'Nn': 'N',\n",
    "    'Oo': 'O',\n",
    "    'Pp': 'P',\n",
    "    'Qq': 'Q',\n",
    "    'Rr': 'R',\n",
    "    'Ss': 'S',\n",
    "    'Tt': 'T',\n",
    "    'Uu': 'U',\n",
    "    'Vv': 'V',\n",
    "    'Ww': 'W',\n",
    "    'Xx': 'X',\n",
    "    'Yy': 'Y',\n",
    "    'Zz': 'Z',\n",
    "    'a': 'a',\n",
    "    'b': 'b',\n",
    "    'c': 'c',\n",
    "    'd': 'd',\n",
    "    'e': 'e',\n",
    "    'f': 'f',\n",
    "    'g': 'g',\n",
    "    'h': 'h',\n",
    "    'i': 'i',\n",
    "    'j': 'j',\n",
    "    'k': 'k',\n",
    "    'l': 'l',\n",
    "    'm': 'm',\n",
    "    'n': 'n',\n",
    "    'o': 'o',\n",
    "    'p': 'p',\n",
    "    'q': 'q',\n",
    "    'r': 'r',\n",
    "    's': 's',\n",
    "    't': 't',\n",
    "    'u': 'u',\n",
    "    'v': 'v',\n",
    "    'w': 'w',\n",
    "    'x': 'x',\n",
    "    'y': 'y',\n",
    "    'z': 'z',\n",
    "    '0': '0',\n",
    "    '1': '1',\n",
    "    '2': '2',\n",
    "    '3': '3',\n",
    "    '4': '4',\n",
    "    '5': '5',\n",
    "    '6': '6',\n",
    "    '7': '7',\n",
    "    '8': '8',\n",
    "    '9': '9'\n",
    "}"
   ]
  },
  {
   "cell_type": "markdown",
   "id": "de1a9254",
   "metadata": {},
   "source": [
    "***Note:*** Run the below cell 4 times.   "
   ]
  },
  {
   "cell_type": "code",
   "execution_count": 70,
   "id": "3bc9848e",
   "metadata": {},
   "outputs": [],
   "source": [
    "#loop with 4 font folders to avoid timeout\n",
    "#'fonts_A-G/'\n",
    "#'fonts_H-M/'\n",
    "#'fonts_N-S/'\n",
    "#'fonts_T-Z/'\n",
    "\n",
    "for filepath in glob.glob('fonts_T-Z/**/*.ttf', recursive=True):\n",
    "    path = filepath\n",
    "    dirname = Path(filepath).stem\n",
    "    os.mkdir('data/{}'.format(dirname))\n",
    "    fontname = path.split('/')[-1]\n",
    "    font = ImageFont.truetype(fontname, 224, encoding='utf-8')\n",
    "    \n",
    "    for c in charset:\n",
    "        image = Image.new(\"RGB\", (width, height), \"black\")\n",
    "        draw = ImageDraw.Draw(image)\n",
    "        offset_w, offset_h = font.getoffset(charset[c])\n",
    "        w, h = draw.textsize(charset[c], font=font)\n",
    "        pos = ((width-w-offset_w)/2, (height-h-offset_h)/2)\n",
    "    \n",
    "        #draw and save\n",
    "        draw.text(pos, charset[c], \"white\", font=font)\n",
    "        image.save(\"data/{}/{}.png\".format(dirname, c))"
   ]
  },
  {
   "cell_type": "markdown",
   "id": "f080f88d",
   "metadata": {},
   "source": [
    "## Organize the Dataset"
   ]
  },
  {
   "cell_type": "code",
   "execution_count": 71,
   "id": "10ba4ce2",
   "metadata": {},
   "outputs": [],
   "source": [
    "#make a folder for each class\n",
    "folder='classes/'\n",
    "classes=charset.keys()\n",
    "\n",
    "for c in classes:\n",
    "    os.mkdir('classes/{}'.format(c))\n",
    "\n",
    "#loop through each font folder and each image in the folder\n",
    "for filepath in glob.glob('data/**/*.png', recursive=True):\n",
    "    path = filepath\n",
    "    classname = Path(filepath).stem\n",
    "    fontname = path.split('/')[1]\n",
    "    filename = fontname + '_' + path.split('/')[-1]\n",
    "\n",
    "    #move to class folder based on the filename\n",
    "    shutil.move(path, 'classes/{}/{}'.format(classname, filename))"
   ]
  },
  {
   "cell_type": "code",
   "execution_count": 5,
   "id": "7b603d10",
   "metadata": {},
   "outputs": [
    {
     "data": {
      "text/plain": [
       "['Uu',\n",
       " 'Yy',\n",
       " 'Pp',\n",
       " 'Bb',\n",
       " 'Nn',\n",
       " 'Gg',\n",
       " 'Kk',\n",
       " 'Ii',\n",
       " 'Ee',\n",
       " 'Ll',\n",
       " 'r',\n",
       " 'u',\n",
       " '9',\n",
       " '0',\n",
       " '7',\n",
       " 'Rr',\n",
       " 'i',\n",
       " 'n',\n",
       " 'g',\n",
       " '6',\n",
       " 'z',\n",
       " '1',\n",
       " '8',\n",
       " 't',\n",
       " 's',\n",
       " 'a',\n",
       " 'f',\n",
       " 'o',\n",
       " 'h',\n",
       " 'Ww',\n",
       " 'Ss',\n",
       " 'Vv',\n",
       " 'Zz',\n",
       " 'Dd',\n",
       " 'Hh',\n",
       " 'Aa',\n",
       " 'Mm',\n",
       " 'Oo',\n",
       " 'Cc',\n",
       " 'Jj',\n",
       " 'Ff',\n",
       " 'm',\n",
       " 'j',\n",
       " 'c',\n",
       " 'Xx',\n",
       " 'Tt',\n",
       " 'd',\n",
       " 'v',\n",
       " 'q',\n",
       " '4',\n",
       " 'x',\n",
       " '3',\n",
       " 'e',\n",
       " 'b',\n",
       " 'k',\n",
       " 'l',\n",
       " '2',\n",
       " 'y',\n",
       " '5',\n",
       " 'p',\n",
       " 'Qq',\n",
       " 'w']"
      ]
     },
     "execution_count": 5,
     "metadata": {},
     "output_type": "execute_result"
    }
   ],
   "source": [
    "#inspect the class order\n",
    "class_folders = os.listdir(folder)\n",
    "class_folders.remove('.DS_Store')\n",
    "class_folders"
   ]
  },
  {
   "cell_type": "markdown",
   "id": "7a089196",
   "metadata": {},
   "source": [
    "## Process The Dataset"
   ]
  },
  {
   "cell_type": "markdown",
   "id": "0a46e27f",
   "metadata": {},
   "source": [
    "### Batches"
   ]
  },
  {
   "cell_type": "code",
   "execution_count": 6,
   "id": "2d181ee8",
   "metadata": {},
   "outputs": [
    {
     "name": "stdout",
     "output_type": "stream",
     "text": [
      "Found 239630 images belonging to 62 classes.\n",
      "Batch shape=(512, 224, 224, 1), min=0.000, max=1.000\n"
     ]
    }
   ],
   "source": [
    "#create generator\n",
    "datagen = ImageDataGenerator(rescale=1/255)\n",
    "\n",
    "#prepare iterator for the dataset\n",
    "batch_iter = datagen.flow_from_directory('classes/', class_mode='categorical', color_mode='grayscale', batch_size=512, target_size=(224, 224), classes=class_folders)\n",
    "\n",
    "#confirm the iterator works\n",
    "batch_X, batch_y = batch_iter.next()\n",
    "print('Batch shape=%s, min=%.3f, max=%.3f' % (batch_X.shape, batch_X.min(), batch_X.max()))"
   ]
  },
  {
   "cell_type": "code",
   "execution_count": 7,
   "id": "1b5b25ca",
   "metadata": {},
   "outputs": [
    {
     "name": "stdout",
     "output_type": "stream",
     "text": [
      "Found 239630 images belonging to 62 classes.\n"
     ]
    }
   ],
   "source": [
    "#process all data\n",
    "ten_percent_iter = datagen.flow_from_directory('classes/', class_mode='categorical', color_mode='grayscale', batch_size=23963, target_size=(224, 224), classes=class_folders)\n",
    "ten_percent_X, ten_percent_y = ten_percent_iter.next()"
   ]
  },
  {
   "cell_type": "markdown",
   "id": "35068a25",
   "metadata": {},
   "source": [
    "### Full Dataset"
   ]
  },
  {
   "cell_type": "code",
   "execution_count": 41,
   "id": "64c92257",
   "metadata": {},
   "outputs": [],
   "source": [
    "df_filenames = []\n",
    "df_image_arrays = []"
   ]
  },
  {
   "cell_type": "code",
   "execution_count": 20,
   "id": "221a6dff",
   "metadata": {},
   "outputs": [],
   "source": [
    "#Dataframe helper function\n",
    "#Run this 10 times to populate the arrays\n",
    "\n",
    "for i in ten_percent_iter.next():\n",
    "    idx = (ten_percent_iter.batch_index - 1) * ten_percent_iter.batch_size\n",
    "    filename = ten_percent_iter.filenames[idx : idx + ten_percent_iter.batch_size]\n",
    "    df_filenames.append(filename)\n",
    "    df_image_arrays.append(i)"
   ]
  },
  {
   "cell_type": "code",
   "execution_count": 42,
   "id": "dad7e2aa",
   "metadata": {},
   "outputs": [],
   "source": [
    "#Dataframe helper function\n",
    "#Run this 10 times to populate the arrays\n",
    "\n",
    "for i in ten_percent_iter.next():\n",
    "    idx = (ten_percent_iter.batch_index - 1) * ten_percent_iter.batch_size\n",
    "    filename = ten_percent_iter.filenames[idx]\n",
    "    df_filenames.append(filename)\n",
    "    df_image_arrays.append(i)"
   ]
  },
  {
   "cell_type": "code",
   "execution_count": null,
   "id": "d03f0026",
   "metadata": {},
   "outputs": [],
   "source": [
    "print(len(df_filenames[0]))"
   ]
  },
  {
   "cell_type": "code",
   "execution_count": 22,
   "id": "e5fa0924",
   "metadata": {},
   "outputs": [
    {
     "data": {
      "text/plain": [
       "array([[0., 0., 0., ..., 0., 0., 0.],\n",
       "       [0., 0., 0., ..., 0., 0., 1.],\n",
       "       [0., 0., 0., ..., 0., 0., 0.],\n",
       "       ...,\n",
       "       [0., 0., 0., ..., 0., 0., 0.],\n",
       "       [0., 0., 0., ..., 0., 0., 0.],\n",
       "       [0., 0., 0., ..., 0., 0., 0.]], dtype=float32)"
      ]
     },
     "execution_count": 22,
     "metadata": {},
     "output_type": "execute_result"
    }
   ],
   "source": [
    "df_image_arrays[9]"
   ]
  },
  {
   "cell_type": "code",
   "execution_count": 23,
   "id": "cde81714",
   "metadata": {},
   "outputs": [],
   "source": [
    "#flatten arrays\n",
    "flat_df_filenames = [item for sublist in df_filenames for item in sublist]\n",
    "flat_df_image_arrays = [item for sublist in df_image_arrays for item in sublist]"
   ]
  },
  {
   "cell_type": "code",
   "execution_count": 25,
   "id": "9faab2c1",
   "metadata": {},
   "outputs": [
    {
     "name": "stdout",
     "output_type": "stream",
     "text": [
      "[[[0.]\n",
      "  [0.]\n",
      "  [0.]\n",
      "  ...\n",
      "  [0.]\n",
      "  [0.]\n",
      "  [0.]]\n",
      "\n",
      " [[0.]\n",
      "  [0.]\n",
      "  [0.]\n",
      "  ...\n",
      "  [0.]\n",
      "  [0.]\n",
      "  [0.]]\n",
      "\n",
      " [[0.]\n",
      "  [0.]\n",
      "  [0.]\n",
      "  ...\n",
      "  [0.]\n",
      "  [0.]\n",
      "  [0.]]\n",
      "\n",
      " ...\n",
      "\n",
      " [[0.]\n",
      "  [0.]\n",
      "  [0.]\n",
      "  ...\n",
      "  [0.]\n",
      "  [0.]\n",
      "  [0.]]\n",
      "\n",
      " [[0.]\n",
      "  [0.]\n",
      "  [0.]\n",
      "  ...\n",
      "  [0.]\n",
      "  [0.]\n",
      "  [0.]]\n",
      "\n",
      " [[0.]\n",
      "  [0.]\n",
      "  [0.]\n",
      "  ...\n",
      "  [0.]\n",
      "  [0.]\n",
      "  [0.]]]\n"
     ]
    }
   ],
   "source": [
    "print(flat_df_image_arrays[0])"
   ]
  },
  {
   "cell_type": "code",
   "execution_count": 29,
   "id": "594a5590",
   "metadata": {},
   "outputs": [],
   "source": [
    "font_df = pd.DataFrame(flat_df_filenames, columns=['Path'])"
   ]
  },
  {
   "cell_type": "code",
   "execution_count": 31,
   "id": "633095e5",
   "metadata": {},
   "outputs": [
    {
     "name": "stdout",
     "output_type": "stream",
     "text": [
      "<class 'pandas.core.frame.DataFrame'>\n",
      "RangeIndex: 239630 entries, 0 to 239629\n",
      "Data columns (total 1 columns):\n",
      " #   Column  Non-Null Count   Dtype \n",
      "---  ------  --------------   ----- \n",
      " 0   Path    239630 non-null  object\n",
      "dtypes: object(1)\n",
      "memory usage: 1.8+ MB\n"
     ]
    }
   ],
   "source": [
    "font_df.info()"
   ]
  },
  {
   "cell_type": "code",
   "execution_count": 33,
   "id": "c15afb90",
   "metadata": {},
   "outputs": [],
   "source": [
    "font_df['Image Matrix'] = flat_df_image_arrays"
   ]
  },
  {
   "cell_type": "code",
   "execution_count": 34,
   "id": "64334013",
   "metadata": {},
   "outputs": [
    {
     "name": "stdout",
     "output_type": "stream",
     "text": [
      "<class 'pandas.core.frame.DataFrame'>\n",
      "RangeIndex: 239630 entries, 0 to 239629\n",
      "Data columns (total 2 columns):\n",
      " #   Column        Non-Null Count   Dtype \n",
      "---  ------        --------------   ----- \n",
      " 0   Path          239630 non-null  object\n",
      " 1   Image Matrix  239630 non-null  object\n",
      "dtypes: object(2)\n",
      "memory usage: 3.7+ MB\n"
     ]
    }
   ],
   "source": [
    "font_df.info()"
   ]
  },
  {
   "cell_type": "code",
   "execution_count": 35,
   "id": "8bdb17f3",
   "metadata": {},
   "outputs": [
    {
     "data": {
      "text/html": [
       "<div>\n",
       "<style scoped>\n",
       "    .dataframe tbody tr th:only-of-type {\n",
       "        vertical-align: middle;\n",
       "    }\n",
       "\n",
       "    .dataframe tbody tr th {\n",
       "        vertical-align: top;\n",
       "    }\n",
       "\n",
       "    .dataframe thead th {\n",
       "        text-align: right;\n",
       "    }\n",
       "</style>\n",
       "<table border=\"1\" class=\"dataframe\">\n",
       "  <thead>\n",
       "    <tr style=\"text-align: right;\">\n",
       "      <th></th>\n",
       "      <th>Path</th>\n",
       "      <th>Image Matrix</th>\n",
       "    </tr>\n",
       "  </thead>\n",
       "  <tbody>\n",
       "    <tr>\n",
       "      <th>0</th>\n",
       "      <td>Kk/Cormorant-Bold_Kk.png</td>\n",
       "      <td>[[[0.0], [0.0], [0.0], [0.0], [0.0], [0.0], [0...</td>\n",
       "    </tr>\n",
       "    <tr>\n",
       "      <th>1</th>\n",
       "      <td>Kk/Cormorant-Italic_Kk.png</td>\n",
       "      <td>[[[0.0], [0.0], [0.0], [0.0], [0.0], [0.0], [0...</td>\n",
       "    </tr>\n",
       "    <tr>\n",
       "      <th>2</th>\n",
       "      <td>Kk/Cormorant-LightItalic_Kk.png</td>\n",
       "      <td>[[[0.0], [0.0], [0.0], [0.0], [0.0], [0.0], [0...</td>\n",
       "    </tr>\n",
       "    <tr>\n",
       "      <th>3</th>\n",
       "      <td>Kk/Cormorant-Light_Kk.png</td>\n",
       "      <td>[[[0.0], [0.0], [0.0], [0.0], [0.0], [0.0], [0...</td>\n",
       "    </tr>\n",
       "    <tr>\n",
       "      <th>4</th>\n",
       "      <td>Kk/Cormorant-MediumItalic_Kk.png</td>\n",
       "      <td>[[[0.0], [0.0], [0.0], [0.0], [0.0], [0.0], [0...</td>\n",
       "    </tr>\n",
       "  </tbody>\n",
       "</table>\n",
       "</div>"
      ],
      "text/plain": [
       "                               Path  \\\n",
       "0          Kk/Cormorant-Bold_Kk.png   \n",
       "1        Kk/Cormorant-Italic_Kk.png   \n",
       "2   Kk/Cormorant-LightItalic_Kk.png   \n",
       "3         Kk/Cormorant-Light_Kk.png   \n",
       "4  Kk/Cormorant-MediumItalic_Kk.png   \n",
       "\n",
       "                                        Image Matrix  \n",
       "0  [[[0.0], [0.0], [0.0], [0.0], [0.0], [0.0], [0...  \n",
       "1  [[[0.0], [0.0], [0.0], [0.0], [0.0], [0.0], [0...  \n",
       "2  [[[0.0], [0.0], [0.0], [0.0], [0.0], [0.0], [0...  \n",
       "3  [[[0.0], [0.0], [0.0], [0.0], [0.0], [0.0], [0...  \n",
       "4  [[[0.0], [0.0], [0.0], [0.0], [0.0], [0.0], [0...  "
      ]
     },
     "execution_count": 35,
     "metadata": {},
     "output_type": "execute_result"
    }
   ],
   "source": [
    "font_df.head()"
   ]
  },
  {
   "cell_type": "code",
   "execution_count": 40,
   "id": "06eec17b",
   "metadata": {},
   "outputs": [
    {
     "data": {
      "image/png": "[encoded data removed]",
      "text/plain": [
       "<Figure size 432x288 with 1 Axes>"
      ]
     },
     "metadata": {
      "needs_background": "light"
     },
     "output_type": "display_data"
    }
   ],
   "source": [
    "plt.imshow(font_df.at[4, 'Image Matrix'])\n",
    "plt.show()"
   ]
  },
  {
   "cell_type": "markdown",
   "id": "7b893ec9",
   "metadata": {},
   "source": [
    "## EDA"
   ]
  },
  {
   "cell_type": "markdown",
   "id": "b47e9b5c",
   "metadata": {},
   "source": [
    "### Explore the Images"
   ]
  },
  {
   "cell_type": "code",
   "execution_count": 8,
   "id": "4c08d473",
   "metadata": {},
   "outputs": [
    {
     "data": {
      "image/png": "[encoded data removed]",
      "text/plain": [
       "<Figure size 432x288 with 1 Axes>"
      ]
     },
     "metadata": {
      "needs_background": "light"
     },
     "output_type": "display_data"
    }
   ],
   "source": [
    "#Take a look at the image data\n",
    "test_image = batch_X[488]\n",
    "plt.imshow(test_image)\n",
    "plt.show()"
   ]
  },
  {
   "cell_type": "code",
   "execution_count": 9,
   "id": "03002d3d",
   "metadata": {},
   "outputs": [
    {
     "name": "stdout",
     "output_type": "stream",
     "text": [
      "The above image is from class: k\n"
     ]
    }
   ],
   "source": [
    "#Ensure the classes line up\n",
    "y_index = list(batch_y[488]).index(1)\n",
    "print('The above image is from class: {}'.format(class_folders[y_index]))"
   ]
  },
  {
   "cell_type": "code",
   "execution_count": 10,
   "id": "968fb505",
   "metadata": {},
   "outputs": [
    {
     "ename": "AttributeError",
     "evalue": "'DirectoryIterator' object has no attribute 'class_indicies'",
     "output_type": "error",
     "traceback": [
      "\u001b[0;31m---------------------------------------------------------------------------\u001b[0m",
      "\u001b[0;31mAttributeError\u001b[0m                            Traceback (most recent call last)",
      "\u001b[0;32m<ipython-input-10-fd1759436c7f>\u001b[0m in \u001b[0;36m<module>\u001b[0;34m\u001b[0m\n\u001b[0;32m----> 1\u001b[0;31m \u001b[0mbatch_iter\u001b[0m\u001b[0;34m.\u001b[0m\u001b[0mclass_indicies\u001b[0m\u001b[0;34m\u001b[0m\u001b[0;34m\u001b[0m\u001b[0m\n\u001b[0m",
      "\u001b[0;31mAttributeError\u001b[0m: 'DirectoryIterator' object has no attribute 'class_indicies'"
     ]
    }
   ],
   "source": [
    "batch_iter.class_indicies"
   ]
  },
  {
   "cell_type": "code",
   "execution_count": 25,
   "id": "b00672bf",
   "metadata": {},
   "outputs": [
    {
     "data": {
      "text/plain": [
       "(512, 224, 224, 1)"
      ]
     },
     "execution_count": 25,
     "metadata": {},
     "output_type": "execute_result"
    }
   ],
   "source": [
    "batch_X.shape"
   ]
  },
  {
   "cell_type": "code",
   "execution_count": 27,
   "id": "ec729bb6",
   "metadata": {},
   "outputs": [],
   "source": [
    "#Averaging the images\n",
    "def find_mean_char(img_matrix, size=(224, 224)):\n",
    "    #calculate the average\n",
    "    mean_img = np.mean(img_matrix, axis=0)\n",
    "    #reshape into matrix\n",
    "    mean_img = mean_img.reshape(size)\n",
    "    plt.imshow(mean_img, cmap='Greys_r')\n",
    "    plt.title('Average Character')\n",
    "    plt.axis('off')\n",
    "    plt.show()\n",
    "    return mean_img"
   ]
  },
  {
   "cell_type": "code",
   "execution_count": 28,
   "id": "0b421cbb",
   "metadata": {},
   "outputs": [
    {
     "data": {
      "image/png": "[encoded data removed]",
      "text/plain": [
       "<Figure size 432x288 with 1 Axes>"
      ]
     },
     "metadata": {
      "needs_background": "light"
     },
     "output_type": "display_data"
    }
   ],
   "source": [
    "#small batch\n",
    "mean_char = find_mean_char(batch_X)"
   ]
  },
  {
   "cell_type": "code",
   "execution_count": 29,
   "id": "4e0eb4c6",
   "metadata": {},
   "outputs": [
    {
     "data": {
      "image/png": "[encoded data removed]",
      "text/plain": [
       "<Figure size 432x288 with 1 Axes>"
      ]
     },
     "metadata": {
      "needs_background": "light"
     },
     "output_type": "display_data"
    }
   ],
   "source": [
    "#large batch\n",
    "mean_char = find_mean_char(one_percent_X)"
   ]
  },
  {
   "cell_type": "code",
   "execution_count": 30,
   "id": "4f8a61de",
   "metadata": {},
   "outputs": [],
   "source": [
    "#Averaging the images in the batch\n",
    "def find_mean_img(img_matrix, class_matrix, img_class, size=(224, 224)):\n",
    "    #calculate the average\n",
    "    of_class_matrix = []\n",
    "    for y in range(img_matrix.shape[0]):\n",
    "        y_index = list(class_matrix[y]).index(1)\n",
    "        class_name = class_folders[y_index]\n",
    "        \n",
    "        if class_name == img_class:\n",
    "            of_class_matrix.append(img_matrix[y])\n",
    "            \n",
    "    mean_img = np.mean(of_class_matrix, axis=0)\n",
    "    mean_img = mean_img.reshape(size)\n",
    "    plt.imshow(mean_img, cmap='Greys_r')\n",
    "    plt.title(f'Average {img_class}')\n",
    "    plt.axis('off')\n",
    "    plt.show()\n",
    "    #return mean_img"
   ]
  },
  {
   "cell_type": "code",
   "execution_count": 31,
   "id": "33d63549",
   "metadata": {},
   "outputs": [
    {
     "data": {
      "image/png": "[encoded data removed]",
      "text/plain": [
       "<Figure size 432x288 with 1 Axes>"
      ]
     },
     "metadata": {
      "needs_background": "light"
     },
     "output_type": "display_data"
    }
   ],
   "source": [
    "#small batch\n",
    "find_mean_img(batch_X, batch_y, 't')"
   ]
  },
  {
   "cell_type": "code",
   "execution_count": 32,
   "id": "b889b364",
   "metadata": {},
   "outputs": [
    {
     "data": {
      "image/png": "[encoded data removed]",
      "text/plain": [
       "<Figure size 432x288 with 1 Axes>"
      ]
     },
     "metadata": {
      "needs_background": "light"
     },
     "output_type": "display_data"
    }
   ],
   "source": [
    "#large batch\n",
    "find_mean_img(one_percent_X, one_percent_y, 't')"
   ]
  },
  {
   "cell_type": "code",
   "execution_count": 33,
   "id": "505a521a",
   "metadata": {},
   "outputs": [
    {
     "data": {
      "image/png": "[encoded data removed]",
      "text/plain": [
       "<Figure size 432x288 with 1 Axes>"
      ]
     },
     "metadata": {
      "needs_background": "light"
     },
     "output_type": "display_data"
    }
   ],
   "source": [
    "find_mean_img(batch_X, batch_y, 'Ww')"
   ]
  },
  {
   "cell_type": "code",
   "execution_count": 34,
   "id": "e1a0828a",
   "metadata": {},
   "outputs": [
    {
     "data": {
      "image/png": "[encoded data removed]",
      "text/plain": [
       "<Figure size 432x288 with 1 Axes>"
      ]
     },
     "metadata": {
      "needs_background": "light"
     },
     "output_type": "display_data"
    }
   ],
   "source": [
    "find_mean_img(batch_X, batch_y, '8')"
   ]
  },
  {
   "cell_type": "markdown",
   "id": "85687f05",
   "metadata": {},
   "source": [
    "### Ensure the Classes are Balanced"
   ]
  },
  {
   "cell_type": "code",
   "execution_count": 45,
   "id": "ad47c1a8",
   "metadata": {},
   "outputs": [
    {
     "name": "stdout",
     "output_type": "stream",
     "text": [
      "Uu:3865\n",
      "Yy:3865\n",
      "Pp:3865\n",
      "Bb:3865\n",
      "Nn:3865\n",
      "Gg:3865\n",
      "Kk:3865\n",
      "Ii:3865\n",
      "Ee:3865\n",
      "Ll:3865\n",
      "r:3865\n",
      "u:3865\n",
      "9:3865\n",
      "0:3865\n",
      "7:3865\n",
      "Rr:3865\n",
      "i:3865\n",
      "n:3865\n",
      "g:3865\n",
      "6:3865\n",
      "z:3865\n",
      "1:3865\n",
      "8:3865\n",
      "t:3865\n",
      "s:3865\n",
      "a:3865\n",
      "f:3865\n",
      "o:3865\n",
      "h:3865\n",
      "Ww:3865\n",
      "Ss:3865\n",
      "Vv:3865\n",
      "Zz:3865\n",
      "Dd:3865\n",
      "Hh:3865\n",
      "Aa:3865\n",
      "Mm:3865\n",
      "Oo:3865\n",
      "Cc:3865\n",
      "Jj:3865\n",
      "Ff:3865\n",
      "m:3865\n",
      "j:3865\n",
      "c:3865\n",
      "Xx:3865\n",
      "Tt:3865\n",
      "d:3865\n",
      "v:3865\n",
      "q:3865\n",
      "4:3865\n",
      "x:3865\n",
      "3:3865\n",
      "e:3865\n",
      "b:3865\n",
      "k:3865\n",
      "l:3865\n",
      "2:3865\n",
      "y:3865\n",
      "5:3865\n",
      "p:3865\n",
      "Qq:3865\n",
      "w:3865\n"
     ]
    }
   ],
   "source": [
    "#all should contain 3865 images\n",
    "for folder in class_folders:\n",
    "    onlyfiles = next(os.walk('classes/{}'.format(folder)))[2]\n",
    "    print('{}:{}'.format(folder, len(onlyfiles)))"
   ]
  }
 ],
 "metadata": {
  "kernelspec": {
   "display_name": "Python 3",
   "language": "python",
   "name": "python3"
  },
  "language_info": {
   "codemirror_mode": {
    "name": "ipython",
    "version": 3
   },
   "file_extension": ".py",
   "mimetype": "text/x-python",
   "name": "python",
   "nbconvert_exporter": "python",
   "pygments_lexer": "ipython3",
   "version": "3.7.6"
  },
  "toc": {
   "base_numbering": 1,
   "nav_menu": {},
   "number_sections": true,
   "sideBar": true,
   "skip_h1_title": false,
   "title_cell": "Table of Contents",
   "title_sidebar": "Contents",
   "toc_cell": false,
   "toc_position": {},
   "toc_section_display": true,
   "toc_window_display": false
  },
  "varInspector": {
   "cols": {
    "lenName": 16,
    "lenType": 16,
    "lenVar": 40
   },
   "kernels_config": {
    "python": {
     "delete_cmd_postfix": "",
     "delete_cmd_prefix": "del ",
     "library": "var_list.py",
     "varRefreshCmd": "print(var_dic_list())"
    },
    "r": {
     "delete_cmd_postfix": ") ",
     "delete_cmd_prefix": "rm(",
     "library": "var_list.r",
     "varRefreshCmd": "cat(var_dic_list()) "
    }
   },
   "types_to_exclude": [
    "module",
    "function",
    "builtin_function_or_method",
    "instance",
    "_Feature"
   ],
   "window_display": false
  }
 },
 "nbformat": 4,
 "nbformat_minor": 5
}
