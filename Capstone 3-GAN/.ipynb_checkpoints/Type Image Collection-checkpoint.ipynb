{
 "cells": [
  {
   "cell_type": "markdown",
   "id": "d4519784",
   "metadata": {},
   "source": [
    "## Gather Character Data from .ttf Files"
   ]
  },
  {
   "cell_type": "code",
   "execution_count": 1,
   "id": "f6295dbe",
   "metadata": {},
   "outputs": [],
   "source": [
    "from PIL import Image, ImageDraw, ImageFont\n",
    "import os, sys, shutil\n",
    "from pathlib import Path\n",
    "import glob"
   ]
  },
  {
   "cell_type": "code",
   "execution_count": 36,
   "id": "348bbb13",
   "metadata": {},
   "outputs": [],
   "source": [
    "import numpy as np\n",
    "import matplotlib.pyplot as plt\n",
    "from tqdm import tqdm"
   ]
  },
  {
   "cell_type": "code",
   "execution_count": 39,
   "id": "3893db66",
   "metadata": {},
   "outputs": [],
   "source": [
    "import tensorflow\n",
    "from tensorflow.python.keras.layers import Input\n",
    "from tensorflow.python.keras.models import Model, Sequential\n",
    "from tensorflow.python.keras.layers.core import Dense, Dropout\n",
    "from tensorflow.python.keras.layers.advanced_activations import LeakyReLU\n",
    "from tensorflow.python.keras.preprocessing.image import ImageDataGenerator\n",
    "from tensorflow.python.keras import initializers"
   ]
  },
  {
   "cell_type": "code",
   "execution_count": 12,
   "id": "8d03c672",
   "metadata": {
    "code_folding": [
     7
    ]
   },
   "outputs": [],
   "source": [
    "#constants\n",
    "width, height = (224, 224)\n",
    "random_dim = 100\n",
    "os.environ['KERAS_BACKEND'] = 'tensorflow'\n",
    "\n",
    "#character set dictionary\n",
    "#limited to uppercase, lowercase and digits only\n",
    "charset = {\n",
    "    'Aa': 'A',\n",
    "    'Bb': 'B',\n",
    "    'Cc': 'C',\n",
    "    'Dd': 'D',\n",
    "    'Ee': 'E',\n",
    "    'Ff': 'F',\n",
    "    'Gg': 'G',\n",
    "    'Hh': 'H',\n",
    "    \"Ii\": 'I',\n",
    "    'Jj': 'J',\n",
    "    'Kk': 'K',\n",
    "    'Ll': 'L',\n",
    "    'Mm': 'M',\n",
    "    'Nn': 'N',\n",
    "    'Oo': 'O',\n",
    "    'Pp': 'P',\n",
    "    'Qq': 'Q',\n",
    "    'Rr': 'R',\n",
    "    'Ss': 'S',\n",
    "    'Tt': 'T',\n",
    "    'Uu': 'U',\n",
    "    'Vv': 'V',\n",
    "    'Ww': 'W',\n",
    "    'Xx': 'X',\n",
    "    'Yy': 'Y',\n",
    "    'Zz': 'Z',\n",
    "    'a': 'a',\n",
    "    'b': 'b',\n",
    "    'c': 'c',\n",
    "    'd': 'd',\n",
    "    'e': 'e',\n",
    "    'f': 'f',\n",
    "    'g': 'g',\n",
    "    'h': 'h',\n",
    "    'i': 'i',\n",
    "    'j': 'j',\n",
    "    'k': 'k',\n",
    "    'l': 'l',\n",
    "    'm': 'm',\n",
    "    'n': 'n',\n",
    "    'o': 'o',\n",
    "    'p': 'p',\n",
    "    'q': 'q',\n",
    "    'r': 'r',\n",
    "    's': 's',\n",
    "    't': 't',\n",
    "    'u': 'u',\n",
    "    'v': 'v',\n",
    "    'w': 'w',\n",
    "    'x': 'x',\n",
    "    'y': 'y',\n",
    "    'z': 'z',\n",
    "    '0': '0',\n",
    "    '1': '1',\n",
    "    '2': '2',\n",
    "    '3': '3',\n",
    "    '4': '4',\n",
    "    '5': '5',\n",
    "    '6': '6',\n",
    "    '7': '7',\n",
    "    '8': '8',\n",
    "    '9': '9'\n",
    "}"
   ]
  },
  {
   "cell_type": "code",
   "execution_count": 13,
   "id": "b97af3df",
   "metadata": {},
   "outputs": [],
   "source": [
    "#loop\n",
    "for filepath in glob.glob('fonts/**/*.ttf', recursive=True):\n",
    "    path = filepath\n",
    "    dirname = Path(filepath).stem\n",
    "    os.mkdir('data/{}'.format(dirname))\n",
    "    fontname = path.split('/')[-1]\n",
    "    font = ImageFont.truetype(fontname, 224, encoding='utf-8')\n",
    "    \n",
    "    for c in charset:\n",
    "        image = Image.new(\"RGB\", (width, height), \"black\")\n",
    "        draw = ImageDraw.Draw(image)\n",
    "        offset_w, offset_h = font.getoffset(charset[c])\n",
    "        w, h = draw.textsize(charset[c], font=font)\n",
    "        pos = ((width-w-offset_w)/2, (height-h-offset_h)/2)\n",
    "    \n",
    "        #draw and save\n",
    "        draw.text(pos, charset[c], \"white\", font=font)\n",
    "        image.save(\"data/{}/{}.png\".format(dirname, c))"
   ]
  },
  {
   "cell_type": "markdown",
   "id": "5d1eae1a",
   "metadata": {},
   "source": [
    "***Note:*** Fonts with names beginning with 'A' - 'E' total 1269 fonts. Rough estimate puts the entire set at around 6,200 fonts. With each at 62 characters (uppercase, lowercase and 10 digits) that's roughly 385K images."
   ]
  },
  {
   "cell_type": "markdown",
   "id": "fe87dd4b",
   "metadata": {},
   "source": [
    "## Organize the Dataset"
   ]
  },
  {
   "cell_type": "code",
   "execution_count": 14,
   "id": "cb142236",
   "metadata": {},
   "outputs": [],
   "source": [
    "#make a folder for each class\n",
    "folder='classes/'\n",
    "classes=charset.keys()\n",
    "\n",
    "for c in classes:\n",
    "    os.mkdir('classes/{}'.format(c))\n",
    "\n",
    "#loop through each font folder and each image in the folder\n",
    "for filepath in glob.glob('data/**/*.png', recursive=True):\n",
    "    path = filepath\n",
    "    classname = Path(filepath).stem\n",
    "    fontname = path.split('/')[1]\n",
    "    filename = fontname + '_' + path.split('/')[-1]\n",
    "\n",
    "    #move to class folder based on the filename\n",
    "    shutil.move(path, 'classes/{}/{}'.format(classname, filename))"
   ]
  },
  {
   "cell_type": "code",
   "execution_count": 15,
   "id": "8d8ec001",
   "metadata": {},
   "outputs": [
    {
     "data": {
      "text/plain": [
       "['Uu',\n",
       " 'Yy',\n",
       " 'Pp',\n",
       " 'Bb',\n",
       " 'Nn',\n",
       " 'Gg',\n",
       " 'Kk',\n",
       " 'Ii',\n",
       " 'Ee',\n",
       " 'Ll',\n",
       " 'r',\n",
       " 'u',\n",
       " '9',\n",
       " '0',\n",
       " '7',\n",
       " 'Rr',\n",
       " 'i',\n",
       " 'n',\n",
       " 'g',\n",
       " '6',\n",
       " 'z',\n",
       " '1',\n",
       " '8',\n",
       " 't',\n",
       " 's',\n",
       " 'a',\n",
       " 'f',\n",
       " 'o',\n",
       " 'h',\n",
       " 'Ww',\n",
       " 'Ss',\n",
       " 'Vv',\n",
       " 'Zz',\n",
       " 'Dd',\n",
       " 'Hh',\n",
       " 'Aa',\n",
       " 'Mm',\n",
       " 'Oo',\n",
       " 'Cc',\n",
       " 'Jj',\n",
       " 'Ff',\n",
       " 'm',\n",
       " 'j',\n",
       " 'c',\n",
       " 'Xx',\n",
       " 'Tt',\n",
       " 'd',\n",
       " 'v',\n",
       " 'q',\n",
       " '4',\n",
       " 'x',\n",
       " '3',\n",
       " 'e',\n",
       " 'b',\n",
       " 'k',\n",
       " 'l',\n",
       " '2',\n",
       " 'y',\n",
       " '5',\n",
       " 'p',\n",
       " 'Qq',\n",
       " 'w']"
      ]
     },
     "execution_count": 15,
     "metadata": {},
     "output_type": "execute_result"
    }
   ],
   "source": [
    "#inspect the class order\n",
    "class_folders = os.listdir(folder)\n",
    "class_folders.remove('.DS_Store')\n",
    "class_folders"
   ]
  },
  {
   "cell_type": "markdown",
   "id": "d9c86328",
   "metadata": {},
   "source": [
    "## Process The Dataset"
   ]
  },
  {
   "cell_type": "code",
   "execution_count": 16,
   "id": "0bc7c8bf",
   "metadata": {},
   "outputs": [
    {
     "name": "stdout",
     "output_type": "stream",
     "text": [
      "Found 78678 images belonging to 62 classes.\n",
      "Batch shape=(64, 112, 112, 1), min=0.000, max=1.000\n"
     ]
    }
   ],
   "source": [
    "#create generator\n",
    "datagen = ImageDataGenerator(rescale=1/255)\n",
    "\n",
    "#prepare iterator for the dataset\n",
    "batch_iter = datagen.flow_from_directory('classes/', class_mode='categorical', color_mode='grayscale', batch_size=64, target_size=(112, 112), classes=class_folders)\n",
    "\n",
    "#confirm the iterator works\n",
    "batch_X, batch_y = batch_iter.next()\n",
    "print('Batch shape=%s, min=%.3f, max=%.3f' % (batch_X.shape, batch_X.min(), batch_X.max()))"
   ]
  },
  {
   "cell_type": "code",
   "execution_count": 32,
   "id": "ab0dcbeb",
   "metadata": {},
   "outputs": [
    {
     "data": {
      "image/png": "[encoded data removed]",
      "text/plain": [
       "<Figure size 432x288 with 1 Axes>"
      ]
     },
     "metadata": {
      "needs_background": "light"
     },
     "output_type": "display_data"
    }
   ],
   "source": [
    "#Take a look at the data\n",
    "test_image = batch_X[57]\n",
    "plt.imshow(test_image)\n",
    "plt.show()"
   ]
  },
  {
   "cell_type": "code",
   "execution_count": 33,
   "id": "7f2e9136",
   "metadata": {},
   "outputs": [
    {
     "name": "stdout",
     "output_type": "stream",
     "text": [
      "The above image is from class: v\n"
     ]
    }
   ],
   "source": [
    "#Ensure the class lines up\n",
    "y_index = list(batch_y[57]).index(1)\n",
    "print('The above image is from class: {}'.format(class_folders[y_index]))"
   ]
  },
  {
   "cell_type": "code",
   "execution_count": 34,
   "id": "d60a3b38",
   "metadata": {},
   "outputs": [
    {
     "data": {
      "text/plain": [
       "(64, 112, 112, 1)"
      ]
     },
     "execution_count": 34,
     "metadata": {},
     "output_type": "execute_result"
    }
   ],
   "source": [
    "batch_X.shape"
   ]
  },
  {
   "cell_type": "code",
   "execution_count": 35,
   "id": "e4e1974a",
   "metadata": {},
   "outputs": [
    {
     "data": {
      "text/plain": [
       "(64, 12544)"
      ]
     },
     "execution_count": 35,
     "metadata": {},
     "output_type": "execute_result"
    }
   ],
   "source": [
    "batch_X = batch_X.reshape(64, 12544)\n",
    "batch_X.shape"
   ]
  },
  {
   "cell_type": "markdown",
   "id": "ca2946e8",
   "metadata": {},
   "source": [
    "## Playing with the Dataset"
   ]
  },
  {
   "cell_type": "markdown",
   "id": "236b1300",
   "metadata": {},
   "source": [
    "### Constructor Functions"
   ]
  },
  {
   "cell_type": "code",
   "execution_count": 40,
   "id": "3395f143",
   "metadata": {
    "code_folding": []
   },
   "outputs": [],
   "source": [
    "def create_generator():\n",
    "    generator = Sequential()\n",
    "    generator.add(Dense(4040, input_dim=random_dim, kernel_initializer=initializers.RandomNormal(stddev=0.02)))\n",
    "    generator.add(LeakyReLU(0.2))\n",
    "    \n",
    "    generator.add(Dense(8080))\n",
    "    generator.add(LeakyReLU(0.2))\n",
    "    \n",
    "    generator.add(Dense(16160))\n",
    "    generator.add(LeakyReLU(0.2))\n",
    "    \n",
    "    generator.add(Dense(12544, activation='tanh'))\n",
    "    generator.compile(optimizer='adam', loss='binary_crossentropy')\n",
    "    return generator"
   ]
  },
  {
   "cell_type": "code",
   "execution_count": 41,
   "id": "b00343f8",
   "metadata": {
    "code_folding": []
   },
   "outputs": [],
   "source": [
    "def create_discriminator():\n",
    "    discriminator = Sequential()\n",
    "    discriminator.add(Dense(16160, input_dim=12544, kernel_initializer=initializers.RandomNormal(stddev=0.02)))\n",
    "    discriminator.add(LeakyReLU(0.2))\n",
    "    discriminator.add(Dropout(0.3))\n",
    "    \n",
    "    discriminator.add(Dense(8080))\n",
    "    discriminator.add(LeakyReLU(0.2))\n",
    "    discriminator.add(Dropout(0.3))\n",
    "    \n",
    "    discriminator.add(Dense(4040))\n",
    "    discriminator.add(LeakyReLU(0.2))\n",
    "    discriminator.add(Dropout(0.3))\n",
    "    \n",
    "    discriminator.add(Dense(1, activation='sigmoid'))\n",
    "    discriminator.compile(optimizer='adam', loss='binary_crossentropy')\n",
    "    return discriminator"
   ]
  },
  {
   "cell_type": "code",
   "execution_count": 42,
   "id": "38c502b0",
   "metadata": {
    "code_folding": []
   },
   "outputs": [],
   "source": [
    "def create_gan(discriminator, random_dim, generator):\n",
    "    discriminator.trainable = False\n",
    "    gan_input = Input(shape=(random_dim,))\n",
    "    x = generator(gan_input)\n",
    "    gan_output = discriminator(x)\n",
    "    gan = Model(inputs=gan_input, outputs=gan_output)\n",
    "    gan.compile(optimizer='adam', loss='binary_crossentropy')\n",
    "    return gan"
   ]
  },
  {
   "cell_type": "code",
   "execution_count": 43,
   "id": "e991e206",
   "metadata": {},
   "outputs": [],
   "source": [
    "#output char images every epoch\n",
    "def plot_generated_images(epoch, generator, examples=100, dim=(15, 15), figsize=(15, 15)):\n",
    "    noise = np.random.normal(0, 1, size=[examples, random_dim])\n",
    "    generated_images = generator.predict(noise)\n",
    "    generated_images = generated_images.reshape(examples, 112, 112)\n",
    "    \n",
    "    plt.figure(figsize=figsize)\n",
    "    for i in range(generated_images.shape[0]):\n",
    "        plt.subplot(dim[0], dim[1], i+1)\n",
    "        plt.imshow(generated_images[i], interpolation='nearest', cmap='gray_r')\n",
    "        plt.axis('off')\n",
    "    plt.tight_layout()\n",
    "    plt.savefig('gan_generated_chars_epoch_%d.png' % epoch)"
   ]
  },
  {
   "cell_type": "code",
   "execution_count": 44,
   "id": "ea59a57b",
   "metadata": {},
   "outputs": [],
   "source": [
    "def train(epochs=1, batch_size=64):\n",
    "    batch_count = batch_X.shape[0]\n",
    "    \n",
    "    #build GAN network\n",
    "    generator = create_generator()\n",
    "    discriminator = create_discriminator()\n",
    "    gan = create_gan(discriminator, random_dim, generator)\n",
    "    \n",
    "    for e in range(1, epochs+1):\n",
    "        print('-'*15, 'Epoch %d' % e, '-'*15)\n",
    "        for _ in tqdm(range(batch_count)):\n",
    "            #get random set of noise\n",
    "            noise = np.random.normal(0, 1, size=[batch_size, random_dim])\n",
    "            image_batch = batch_X[np.random.randint(0, batch_X.shape[0], size=batch_size)]\n",
    "            \n",
    "            #generate fake chars\n",
    "            generated_images = generator.predict(noise)\n",
    "            X = np.concatenate([image_batch, generated_images])\n",
    "            \n",
    "            #labels for generated and real data\n",
    "            y_dis = np.zeros(2*batch_size)\n",
    "            y_dis[:batch_size] = 0.9\n",
    "            \n",
    "            #train discriminator\n",
    "            discriminator.trainable = True\n",
    "            discriminator.train_on_batch(X, y_dis)\n",
    "            \n",
    "            #train generator\n",
    "            noise = np.random.normal(0, 1, size=[batch_size, random_dim])\n",
    "            y_gen = np.ones(batch_size)\n",
    "            discriminator.trainable = False\n",
    "            gan.train_on_batch(noise, y_gen)\n",
    "            \n",
    "        #plot output every 10 epochs    \n",
    "        if e == 1 or e % 10 == 0:\n",
    "            plot_generated_images(e, generator)"
   ]
  },
  {
   "cell_type": "code",
   "execution_count": null,
   "id": "ed8a7e6d",
   "metadata": {},
   "outputs": [],
   "source": [
    "#test\n",
    "train(1, 64)"
   ]
  }
 ],
 "metadata": {
  "kernelspec": {
   "display_name": "Python 3",
   "language": "python",
   "name": "python3"
  },
  "language_info": {
   "codemirror_mode": {
    "name": "ipython",
    "version": 3
   },
   "file_extension": ".py",
   "mimetype": "text/x-python",
   "name": "python",
   "nbconvert_exporter": "python",
   "pygments_lexer": "ipython3",
   "version": "3.7.6"
  },
  "toc": {
   "base_numbering": 1,
   "nav_menu": {},
   "number_sections": true,
   "sideBar": true,
   "skip_h1_title": false,
   "title_cell": "Table of Contents",
   "title_sidebar": "Contents",
   "toc_cell": false,
   "toc_position": {},
   "toc_section_display": true,
   "toc_window_display": false
  },
  "varInspector": {
   "cols": {
    "lenName": 16,
    "lenType": 16,
    "lenVar": 40
   },
   "kernels_config": {
    "python": {
     "delete_cmd_postfix": "",
     "delete_cmd_prefix": "del ",
     "library": "var_list.py",
     "varRefreshCmd": "print(var_dic_list())"
    },
    "r": {
     "delete_cmd_postfix": ") ",
     "delete_cmd_prefix": "rm(",
     "library": "var_list.r",
     "varRefreshCmd": "cat(var_dic_list()) "
    }
   },
   "types_to_exclude": [
    "module",
    "function",
    "builtin_function_or_method",
    "instance",
    "_Feature"
   ],
   "window_display": false
  }
 },
 "nbformat": 4,
 "nbformat_minor": 5
}
