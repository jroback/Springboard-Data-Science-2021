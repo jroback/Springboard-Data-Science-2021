{
 "cells": [
  {
   "cell_type": "markdown",
   "metadata": {},
   "source": [
    "This exercise will require you to pull some data from the Qunadl API. Qaundl is currently the most widely used aggregator of financial market data."
   ]
  },
  {
   "cell_type": "markdown",
   "metadata": {},
   "source": [
    "As a first step, you will need to register a free account on the http://www.quandl.com website."
   ]
  },
  {
   "cell_type": "markdown",
   "metadata": {},
   "source": [
    "After you register, you will be provided with a unique API key, that you should store:"
   ]
  },
  {
   "cell_type": "code",
   "execution_count": 1,
   "metadata": {},
   "outputs": [],
   "source": [
    "# Store the API key as a string - according to PEP8, constants are always named in all upper case\n",
    "API_KEY = 'VtKh9VumYPU5jzy6Fr9n'"
   ]
  },
  {
   "cell_type": "markdown",
   "metadata": {},
   "source": [
    "Qaundl has a large number of data sources, but, unfortunately, most of them require a Premium subscription. Still, there are also a good number of free datasets."
   ]
  },
  {
   "cell_type": "markdown",
   "metadata": {},
   "source": [
    "For this mini project, we will focus on equities data from the Frankfurt Stock Exhange (FSE), which is available for free. We'll try and analyze the stock prices of a company called Carl Zeiss Meditec, which manufactures tools for eye examinations, as well as medical lasers for laser eye surgery: https://www.zeiss.com/meditec/int/home.html. The company is listed under the stock ticker AFX_X."
   ]
  },
  {
   "cell_type": "markdown",
   "metadata": {},
   "source": [
    "You can find the detailed Quandl API instructions here: https://docs.quandl.com/docs/time-series"
   ]
  },
  {
   "cell_type": "markdown",
   "metadata": {},
   "source": [
    "While there is a dedicated Python package for connecting to the Quandl API, we would prefer that you use the *requests* package, which can be easily downloaded using *pip* or *conda*. You can find the documentation for the package here: http://docs.python-requests.org/en/master/ "
   ]
  },
  {
   "cell_type": "markdown",
   "metadata": {},
   "source": [
    "Finally, apart from the *requests* package, you are encouraged to not use any third party Python packages, such as *pandas*, and instead focus on what's available in the Python Standard Library (the *collections* module might come in handy: https://pymotw.com/3/collections/ ).\n",
    "Also, since you won't have access to DataFrames, you are encouraged to us Python's native data structures - preferably dictionaries, though some questions can also be answered using lists.\n",
    "You can read more on these data structures here: https://docs.python.org/3/tutorial/datastructures.html"
   ]
  },
  {
   "cell_type": "markdown",
   "metadata": {},
   "source": [
    "Keep in mind that the JSON responses you will be getting from the API map almost one-to-one to Python's dictionaries. Unfortunately, they can be very nested, so make sure you read up on indexing dictionaries in the documentation provided above."
   ]
  },
  {
   "cell_type": "code",
   "execution_count": 41,
   "metadata": {},
   "outputs": [],
   "source": [
    "# First, import the relevant modules\n",
    "import requests\n",
    "import collections\n",
    "import json\n",
    "import math"
   ]
  },
  {
   "cell_type": "code",
   "execution_count": 10,
   "metadata": {},
   "outputs": [
    {
     "name": "stdout",
     "output_type": "stream",
     "text": [
      "{'dataset': {'id': 10095370, 'dataset_code': 'AFX_X', 'database_code': 'FSE', 'name': 'Carl Zeiss Meditec (AFX_X)', 'description': 'Stock Prices for Carl Zeiss Meditec (2020-11-02) from the Frankfurt Stock Exchange.<br><br>Trading System: Xetra<br><br>ISIN: DE0005313704', 'refreshed_at': '2020-12-01T14:48:09.907Z', 'newest_available_date': '2020-12-01', 'oldest_available_date': '2000-06-07', 'column_names': ['Date', 'Open', 'High', 'Low', 'Close', 'Change', 'Traded Volume', 'Turnover', 'Last Price of the Day', 'Daily Traded Units', 'Daily Turnover'], 'frequency': 'daily', 'type': 'Time Series', 'premium': False, 'limit': 1, 'transform': None, 'column_index': None, 'start_date': '2000-06-07', 'end_date': '2020-12-01', 'data': [['2020-12-01', 112.2, 112.2, 111.5, 112.0, None, 51.0, 5703.0, None, None, None]], 'collapse': None, 'order': None, 'database_id': 6129}}\n"
     ]
    }
   ],
   "source": [
    "# Now, call the Quandl API and pull out a small sample of the data (only one day) to get a glimpse\n",
    "# into the JSON structure that will be returned\n",
    "url = 'https://www.quandl.com/api/v3/datasets/FSE/AFX_X.json'\n",
    "single_day_query = '?limit=1&api_key='\n",
    "\n",
    "r = requests.get(url + single_day_query + API_KEY)\n",
    "r_json = json.loads(r.text)\n",
    "print(r_json)"
   ]
  },
  {
   "cell_type": "code",
   "execution_count": 11,
   "metadata": {},
   "outputs": [
    {
     "name": "stdout",
     "output_type": "stream",
     "text": [
      "{\n",
      "   \"dataset\": {\n",
      "      \"collapse\": null,\n",
      "      \"column_index\": null,\n",
      "      \"column_names\": [\n",
      "         \"Date\",\n",
      "         \"Open\",\n",
      "         \"High\",\n",
      "         \"Low\",\n",
      "         \"Close\",\n",
      "         \"Change\",\n",
      "         \"Traded Volume\",\n",
      "         \"Turnover\",\n",
      "         \"Last Price of the Day\",\n",
      "         \"Daily Traded Units\",\n",
      "         \"Daily Turnover\"\n",
      "      ],\n",
      "      \"data\": [\n",
      "         [\n",
      "            \"2020-12-01\",\n",
      "            112.2,\n",
      "            112.2,\n",
      "            111.5,\n",
      "            112.0,\n",
      "            null,\n",
      "            51.0,\n",
      "            5703.0,\n",
      "            null,\n",
      "            null,\n",
      "            null\n",
      "         ]\n",
      "      ],\n",
      "      \"database_code\": \"FSE\",\n",
      "      \"database_id\": 6129,\n",
      "      \"dataset_code\": \"AFX_X\",\n",
      "      \"description\": \"Stock Prices for Carl Zeiss Meditec (2020-11-02) from the Frankfurt Stock Exchange.<br><br>Trading System: Xetra<br><br>ISIN: DE0005313704\",\n",
      "      \"end_date\": \"2020-12-01\",\n",
      "      \"frequency\": \"daily\",\n",
      "      \"id\": 10095370,\n",
      "      \"limit\": 1,\n",
      "      \"name\": \"Carl Zeiss Meditec (AFX_X)\",\n",
      "      \"newest_available_date\": \"2020-12-01\",\n",
      "      \"oldest_available_date\": \"2000-06-07\",\n",
      "      \"order\": null,\n",
      "      \"premium\": false,\n",
      "      \"refreshed_at\": \"2020-12-01T14:48:09.907Z\",\n",
      "      \"start_date\": \"2000-06-07\",\n",
      "      \"transform\": null,\n",
      "      \"type\": \"Time Series\"\n",
      "   }\n",
      "}\n"
     ]
    }
   ],
   "source": [
    "# Inspect the JSON structure of the object you created, and take note of how nested it is,\n",
    "# as well as the overall structure\n",
    "print(json.dumps(r_json, indent=3, sort_keys=True))"
   ]
  },
  {
   "cell_type": "markdown",
   "metadata": {},
   "source": [
    "These are your tasks for this mini project:\n",
    "\n",
    "1. Collect data from the Franfurt Stock Exchange, for the ticker AFX_X, for the whole year 2017 (keep in mind that the date format is YYYY-MM-DD).\n",
    "2. Convert the returned JSON object into a Python dictionary.\n",
    "3. Calculate what the highest and lowest opening prices were for the stock in this period.\n",
    "4. What was the largest change in any one day (based on High and Low price)?\n",
    "5. What was the largest change between any two days (based on Closing Price)?\n",
    "6. What was the average daily trading volume during this year?\n",
    "7. (Optional) What was the median trading volume during this year. (Note: you may need to implement your own function for calculating the median.)"
   ]
  },
  {
   "cell_type": "code",
   "execution_count": 12,
   "metadata": {},
   "outputs": [
    {
     "name": "stdout",
     "output_type": "stream",
     "text": [
      "<class 'dict'>\n"
     ]
    }
   ],
   "source": [
    "#1 Collect Data from 2017\n",
    "query_2017 = '?start_date=2017-01-01&end_date=2017-12-31&api_key='\n",
    "r = requests.get(url + query_2017 + API_KEY)\n",
    "\n",
    "#2 Convert JSON into Python Dictionary\n",
    "r_json = json.loads(r.text)\n",
    "print(type(r_json))"
   ]
  },
  {
   "cell_type": "code",
   "execution_count": 23,
   "metadata": {},
   "outputs": [
    {
     "name": "stdout",
     "output_type": "stream",
     "text": [
      "AFX_X's HIGHEST opening price in 2017 was: 53.11\n",
      "AFX_X's LOWEST opening price in 2017 was: 34.0\n"
     ]
    }
   ],
   "source": [
    "#3 Calculate highest and lowest opening prices for 2017\n",
    "\n",
    "# Loop through daily data to extract the daily open\n",
    "opens = []\n",
    "for day in r_json['dataset']['data']:\n",
    "    if day[1] != None:\n",
    "        opens.append(day[1])\n",
    "    \n",
    "# Extract & Print Highest and Lowest from 2017\n",
    "highest = max(opens)\n",
    "lowest = min(opens)\n",
    "\n",
    "print(\"AFX_X's HIGHEST opening price in 2017 was: \" + str(highest))\n",
    "print(\"AFX_X's LOWEST opening price in 2017 was: \" + str(lowest))"
   ]
  },
  {
   "cell_type": "code",
   "execution_count": 31,
   "metadata": {},
   "outputs": [
    {
     "name": "stdout",
     "output_type": "stream",
     "text": [
      "AFX_X's largest price change in 2017 was: 2.8100000000000023\n"
     ]
    }
   ],
   "source": [
    "#4 What was the largest change in any one day (based on High and Low price)?\n",
    "high = 2\n",
    "low = 3\n",
    "\n",
    "# Loop through daily data to extract the intra-day delta\n",
    "intraday_deltas = []\n",
    "for day in r_json['dataset']['data']:\n",
    "    if (day[high] != None) & (day[low] != None):\n",
    "        delta = day[high] - day[low]\n",
    "        intraday_deltas.append(delta)\n",
    "        \n",
    "# Print Answer\n",
    "print(\"AFX_X's largest price change in 2017 was: \" + str((max(intraday_deltas))))"
   ]
  },
  {
   "cell_type": "code",
   "execution_count": 39,
   "metadata": {},
   "outputs": [
    {
     "name": "stdout",
     "output_type": "stream",
     "text": [
      "AFX_X's largest two day price change in 2017 was: 2.559999999999995\n"
     ]
    }
   ],
   "source": [
    "#5 What was the largest change between any two days (based on Closing Price)?\n",
    "close = 4\n",
    "\n",
    "# Loop through daily data to extract the closing prices\n",
    "closing_prices = []\n",
    "for day in r_json['dataset']['data']:\n",
    "    if day[close] != None:\n",
    "        closing_prices.append(day[close])\n",
    "        \n",
    "# Calculate the Absolute Daily Deltas between days\n",
    "daily_deltas = []\n",
    "for i in range(len(closing_prices)):\n",
    "    if i == 0:\n",
    "        continue\n",
    "    \n",
    "    delta = abs(closing_prices[i] - closing_prices[i-1])\n",
    "    daily_deltas.append(delta)\n",
    "    \n",
    "# Print the answer\n",
    "max_delta = max(daily_deltas)\n",
    "print(\"AFX_X's largest two day price change in 2017 was: \" + str(max_delta))"
   ]
  },
  {
   "cell_type": "code",
   "execution_count": 63,
   "metadata": {},
   "outputs": [],
   "source": [
    "# Helper Functions for 6 & 7\n",
    "\n",
    "def mean(lst):\n",
    "    return sum(lst) / len(lst)\n",
    "\n",
    "def median(lst):\n",
    "    lst.sort()\n",
    "    if len(lst) % 2 > 0:\n",
    "        index = math.floor(len(lst) / 2)\n",
    "        return lst[index]\n",
    "    else:\n",
    "        index_a = math.floor((len(lst) / 2) -1)\n",
    "        index_b = math.floor(len(lst) / 2)\n",
    "        return (lst[index_b] - lst[index_a]) / 2"
   ]
  },
  {
   "cell_type": "code",
   "execution_count": 64,
   "metadata": {},
   "outputs": [
    {
     "name": "stdout",
     "output_type": "stream",
     "text": [
      "AFX_X's average daily trading volume in 2017 was: 89124.33725490196\n",
      "AFX_X's median daily trading volume in 2017 was: 76286.0\n"
     ]
    }
   ],
   "source": [
    "#6 What was the average daily trading volume during this year?\n",
    "#7 (Optional) What was the median trading volume during this year?\n",
    "dv = 6\n",
    "\n",
    "# Loop through daily data to extract the volume\n",
    "daily_volumes = []\n",
    "for day in r_json['dataset']['data']:\n",
    "    if day[dv] != None:\n",
    "        daily_volumes.append(day[dv])\n",
    "        \n",
    "# Calculate the average & median volumes\n",
    "mean_vol = mean(daily_volumes)\n",
    "med_vol = median(daily_volumes)\n",
    "\n",
    "# Print the answers for 6 & 7\n",
    "print(\"AFX_X's average daily trading volume in 2017 was: \" + str(mean_vol))\n",
    "print(\"AFX_X's median daily trading volume in 2017 was: \" + str(med_vol))"
   ]
  }
 ],
 "metadata": {
  "kernelspec": {
   "display_name": "Python 3",
   "language": "python",
   "name": "python3"
  },
  "language_info": {
   "codemirror_mode": {
    "name": "ipython",
    "version": 3
   },
   "file_extension": ".py",
   "mimetype": "text/x-python",
   "name": "python",
   "nbconvert_exporter": "python",
   "pygments_lexer": "ipython3",
   "version": "3.7.6"
  }
 },
 "nbformat": 4,
 "nbformat_minor": 2
}
