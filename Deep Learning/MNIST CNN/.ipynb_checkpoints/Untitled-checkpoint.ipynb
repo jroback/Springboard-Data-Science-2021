{
 "cells": [
  {
   "cell_type": "markdown",
   "id": "4189dd1c",
   "metadata": {
    "toc": true
   },
   "source": [
    "<h1>Table of Contents<span class=\"tocSkip\"></span></h1>\n",
    "<div class=\"toc\"><ul class=\"toc-item\"><li><span><a href=\"#MNIST-Classification-unsing-CNN\" data-toc-modified-id=\"MNIST-Classification-unsing-CNN-1\"><span class=\"toc-item-num\">1&nbsp;&nbsp;</span>MNIST Classification unsing CNN</a></span><ul class=\"toc-item\"><li><span><a href=\"#Imports\" data-toc-modified-id=\"Imports-1.1\"><span class=\"toc-item-num\">1.1&nbsp;&nbsp;</span>Imports</a></span></li><li><span><a href=\"#Split-the-Data\" data-toc-modified-id=\"Split-the-Data-1.2\"><span class=\"toc-item-num\">1.2&nbsp;&nbsp;</span>Split the Data</a></span></li><li><span><a href=\"#Preview-the-Data\" data-toc-modified-id=\"Preview-the-Data-1.3\"><span class=\"toc-item-num\">1.3&nbsp;&nbsp;</span>Preview the Data</a></span></li><li><span><a href=\"#Process-the-Data\" data-toc-modified-id=\"Process-the-Data-1.4\"><span class=\"toc-item-num\">1.4&nbsp;&nbsp;</span>Process the Data</a></span></li></ul></li><li><span><a href=\"#Create-CNN-Model\" data-toc-modified-id=\"Create-CNN-Model-2\"><span class=\"toc-item-num\">2&nbsp;&nbsp;</span>Create CNN Model</a></span><ul class=\"toc-item\"><li><span><a href=\"#Fit-the-model\" data-toc-modified-id=\"Fit-the-model-2.1\"><span class=\"toc-item-num\">2.1&nbsp;&nbsp;</span>Fit the model</a></span></li></ul></li><li><span><a href=\"#Test-the-Results\" data-toc-modified-id=\"Test-the-Results-3\"><span class=\"toc-item-num\">3&nbsp;&nbsp;</span>Test the Results</a></span><ul class=\"toc-item\"><li><span><a href=\"#Success!\" data-toc-modified-id=\"Success!-3.1\"><span class=\"toc-item-num\">3.1&nbsp;&nbsp;</span>Success!</a></span></li></ul></li></ul></div>"
   ]
  },
  {
   "cell_type": "markdown",
   "id": "3f28fca1",
   "metadata": {},
   "source": [
    "## MNIST Classification unsing CNN"
   ]
  },
  {
   "cell_type": "markdown",
   "id": "ed084215",
   "metadata": {},
   "source": [
    "### Imports"
   ]
  },
  {
   "cell_type": "code",
   "execution_count": 2,
   "id": "15448a01",
   "metadata": {},
   "outputs": [],
   "source": [
    "import tensorflow.keras\n",
    "from tensorflow.keras.callbacks import EarlyStopping\n",
    "from tensorflow.keras.layers import Dense, Dropout, Flatten, Conv2D, MaxPooling2D\n",
    "from tensorflow.keras.models import Sequential\n",
    "from tensorflow.keras import regularizers\n",
    "from tensorflow.keras import backend as K\n",
    "from tensorflow.keras.datasets import mnist\n",
    "\n",
    "import matplotlib.pyplot as plt\n",
    "import numpy as np"
   ]
  },
  {
   "cell_type": "markdown",
   "id": "a2b19ec4",
   "metadata": {},
   "source": [
    "### Split the Data"
   ]
  },
  {
   "cell_type": "code",
   "execution_count": 3,
   "id": "6cda8260",
   "metadata": {},
   "outputs": [
    {
     "name": "stdout",
     "output_type": "stream",
     "text": [
      "Shape of X_train: (60000, 28, 28)\n",
      "Shape of y_train: (60000,)\n",
      "\n",
      "Shape of X_test: (10000, 28, 28)\n",
      "Shape of y_test: (10000,)\n"
     ]
    }
   ],
   "source": [
    "#MNIST has a standard train and test split so no need to split on our own\n",
    "(X_train, y_train), (X_test, y_test) = mnist.load_data()\n",
    "print('Shape of X_train: {}'.format(X_train.shape))\n",
    "print('Shape of y_train: {}'.format(y_train.shape))\n",
    "print()\n",
    "print('Shape of X_test: {}'.format(X_test.shape))\n",
    "print('Shape of y_test: {}'.format(y_test.shape))"
   ]
  },
  {
   "cell_type": "markdown",
   "id": "a7530b06",
   "metadata": {},
   "source": [
    "### Preview the Data"
   ]
  },
  {
   "cell_type": "code",
   "execution_count": 4,
   "id": "dafe7643",
   "metadata": {},
   "outputs": [
    {
     "name": "stdout",
     "output_type": "stream",
     "text": [
      "MNIST Image #116: Labeled as 9\n"
     ]
    },
    {
     "data": {
      "image/png": "[encoded data removed]",
      "text/plain": [
       "<Figure size 432x288 with 1 Axes>"
      ]
     },
     "metadata": {
      "needs_background": "light"
     },
     "output_type": "display_data"
    }
   ],
   "source": [
    "#Display an image from the dataset\n",
    "digit = 116\n",
    "plt.imshow(X_train[digit], cmap='gray', interpolation='nearest')\n",
    "print('MNIST Image #{}: Labeled as {}'.format(digit, y_train[digit]))\n",
    "plt.show()"
   ]
  },
  {
   "cell_type": "markdown",
   "id": "e1a6e63e",
   "metadata": {},
   "source": [
    "### Process the Data"
   ]
  },
  {
   "cell_type": "code",
   "execution_count": 5,
   "id": "ba1c0270",
   "metadata": {},
   "outputs": [
    {
     "name": "stdout",
     "output_type": "stream",
     "text": [
      "X_train shape: (60000, 28, 28, 1)\n",
      "X_test shape: (10000, 28, 28, 1)\n"
     ]
    }
   ],
   "source": [
    "#Set variables\n",
    "batch_size = 128\n",
    "num_classes = 10\n",
    "epochs = 12\n",
    "img_rows, img_cols = 28, 28\n",
    "\n",
    "#Reshape the Data\n",
    "X_train = X_train.reshape(X_train.shape[0], img_rows, img_cols, 1)\n",
    "X_test = X_test.reshape(X_test.shape[0], img_rows, img_cols, 1)\n",
    "input_shape = (img_rows, img_cols, 1)\n",
    "X_train = X_train.astype('float32') / 255\n",
    "X_test = X_test.astype('float32') / 255\n",
    "\n",
    "#Inspect the Data\n",
    "print('X_train shape: {}'.format(X_train.shape))\n",
    "print('X_test shape: {}'.format(X_test.shape))\n",
    "\n",
    "#Convert labels to classes\n",
    "y_train = tensorflow.keras.utils.to_categorical(y_train, num_classes)\n",
    "y_test = tensorflow.keras.utils.to_categorical(y_test, num_classes)"
   ]
  },
  {
   "cell_type": "markdown",
   "id": "0faccd10",
   "metadata": {},
   "source": [
    "## Create CNN Model"
   ]
  },
  {
   "cell_type": "code",
   "execution_count": 6,
   "id": "acac2f8a",
   "metadata": {},
   "outputs": [],
   "source": [
    "model = Sequential()\n",
    "model.add(Conv2D(32, kernel_size=(3, 3), activation='relu', input_shape=input_shape))\n",
    "model.add(Conv2D(64, kernel_size=(3, 3), activation='relu'))\n",
    "model.add(MaxPooling2D(pool_size=(2, 2)))\n",
    "model.add(Dropout(0.25))\n",
    "model.add(Flatten())\n",
    "model.add(Dense(128, activation='relu'))\n",
    "model.add(Dropout(0.5))\n",
    "model.add(Dense(num_classes, activation='softmax')) #output layer\n",
    "\n",
    "model.compile(optimizer='adam', loss='categorical_crossentropy', metrics=['accuracy'])"
   ]
  },
  {
   "cell_type": "markdown",
   "id": "0bc4afbc",
   "metadata": {},
   "source": [
    "### Fit the model"
   ]
  },
  {
   "cell_type": "code",
   "execution_count": 7,
   "id": "fe4b5c6b",
   "metadata": {},
   "outputs": [
    {
     "name": "stdout",
     "output_type": "stream",
     "text": [
      "Epoch 1/12\n",
      "469/469 - 86s - loss: 0.2284 - accuracy: 0.9297 - val_loss: 0.0492 - val_accuracy: 0.9848\n",
      "Epoch 2/12\n",
      "469/469 - 86s - loss: 0.0826 - accuracy: 0.9748 - val_loss: 0.0401 - val_accuracy: 0.9872\n",
      "Epoch 3/12\n",
      "469/469 - 84s - loss: 0.0602 - accuracy: 0.9819 - val_loss: 0.0297 - val_accuracy: 0.9896\n",
      "Epoch 4/12\n",
      "469/469 - 85s - loss: 0.0525 - accuracy: 0.9839 - val_loss: 0.0294 - val_accuracy: 0.9899\n",
      "Epoch 5/12\n",
      "469/469 - 86s - loss: 0.0429 - accuracy: 0.9868 - val_loss: 0.0254 - val_accuracy: 0.9924\n",
      "Epoch 6/12\n",
      "469/469 - 90s - loss: 0.0375 - accuracy: 0.9883 - val_loss: 0.0278 - val_accuracy: 0.9914\n",
      "Epoch 7/12\n",
      "469/469 - 87s - loss: 0.0324 - accuracy: 0.9899 - val_loss: 0.0289 - val_accuracy: 0.9908\n",
      "Epoch 8/12\n",
      "469/469 - 89s - loss: 0.0291 - accuracy: 0.9907 - val_loss: 0.0293 - val_accuracy: 0.9914\n",
      "Epoch 9/12\n",
      "469/469 - 88s - loss: 0.0286 - accuracy: 0.9905 - val_loss: 0.0263 - val_accuracy: 0.9924\n",
      "Epoch 10/12\n",
      "469/469 - 86s - loss: 0.0270 - accuracy: 0.9911 - val_loss: 0.0279 - val_accuracy: 0.9917\n",
      "Epoch 11/12\n",
      "469/469 - 86s - loss: 0.0218 - accuracy: 0.9929 - val_loss: 0.0271 - val_accuracy: 0.9929\n",
      "Epoch 12/12\n",
      "469/469 - 89s - loss: 0.0233 - accuracy: 0.9924 - val_loss: 0.0279 - val_accuracy: 0.9921\n",
      "Test Loss: 0.02789236791431904\n",
      "Test Accuracy: 0.9921000003814697\n"
     ]
    }
   ],
   "source": [
    "model.fit(X_train, y_train, batch_size=batch_size, epochs=epochs, verbose=2, validation_data=(X_test, y_test))\n",
    "score = model.evaluate(X_test, y_test, verbose=0)\n",
    "print('Test Loss: {}'.format(score[0]))\n",
    "print('Test Accuracy: {}'.format(score[1]))"
   ]
  },
  {
   "cell_type": "code",
   "execution_count": 8,
   "id": "ec14c11c",
   "metadata": {},
   "outputs": [
    {
     "name": "stdout",
     "output_type": "stream",
     "text": [
      "2\n"
     ]
    }
   ],
   "source": [
    "#Test on random test set image\n",
    "fourtyseven = X_test[47].reshape(1, img_rows, img_cols, 1)\n",
    "pred = model.predict(fourtyseven).argmax()\n",
    "print(pred)"
   ]
  },
  {
   "cell_type": "code",
   "execution_count": 9,
   "id": "ba2e64c3",
   "metadata": {},
   "outputs": [
    {
     "data": {
      "image/png": "[encoded data removed]",
      "text/plain": [
       "<Figure size 432x288 with 1 Axes>"
      ]
     },
     "metadata": {
      "needs_background": "light"
     },
     "output_type": "display_data"
    }
   ],
   "source": [
    "#Inspect the image\n",
    "plt.imshow(X_test[47], cmap='gray')\n",
    "plt.show()"
   ]
  },
  {
   "cell_type": "markdown",
   "id": "511d2f5b",
   "metadata": {},
   "source": [
    "## Test the Results"
   ]
  },
  {
   "cell_type": "code",
   "execution_count": 20,
   "id": "0ef5b845",
   "metadata": {},
   "outputs": [
    {
     "name": "stdout",
     "output_type": "stream",
     "text": [
      "(1, 28, 28, 1)\n"
     ]
    }
   ],
   "source": [
    "#Test on personal handwriting of a '6'\n",
    "#Load and process image from directory\n",
    "from PIL import Image, ImageOps\n",
    "from numpy import asarray\n",
    "digit = Image.open('secret_number.png')\n",
    "digit = ImageOps.grayscale(digit)\n",
    "\n",
    "secret_image = asarray(digit)\n",
    "secret_digit = secret_image.reshape(1, img_rows, img_cols, 1)\n",
    "print(secret_digit.shape)"
   ]
  },
  {
   "cell_type": "code",
   "execution_count": 21,
   "id": "8a05ef35",
   "metadata": {},
   "outputs": [
    {
     "name": "stdout",
     "output_type": "stream",
     "text": [
      "6\n"
     ]
    }
   ],
   "source": [
    "#Test on processed image\n",
    "secret_pred = model.predict(secret_digit).argmax()\n",
    "print(secret_pred)"
   ]
  },
  {
   "cell_type": "code",
   "execution_count": 22,
   "id": "e893fd1b",
   "metadata": {},
   "outputs": [
    {
     "data": {
      "image/png": "[encoded data removed]",
      "text/plain": [
       "<Figure size 432x288 with 1 Axes>"
      ]
     },
     "metadata": {
      "needs_background": "light"
     },
     "output_type": "display_data"
    }
   ],
   "source": [
    "plt.imshow(secret_image, cmap='gray')\n",
    "plt.show()"
   ]
  },
  {
   "cell_type": "markdown",
   "id": "d01e0f9f",
   "metadata": {},
   "source": [
    "### Success!"
   ]
  }
 ],
 "metadata": {
  "kernelspec": {
   "display_name": "Python 3",
   "language": "python",
   "name": "python3"
  },
  "language_info": {
   "codemirror_mode": {
    "name": "ipython",
    "version": 3
   },
   "file_extension": ".py",
   "mimetype": "text/x-python",
   "name": "python",
   "nbconvert_exporter": "python",
   "pygments_lexer": "ipython3",
   "version": "3.7.6"
  },
  "toc": {
   "base_numbering": 1,
   "nav_menu": {},
   "number_sections": true,
   "sideBar": true,
   "skip_h1_title": false,
   "title_cell": "Table of Contents",
   "title_sidebar": "Contents",
   "toc_cell": true,
   "toc_position": {},
   "toc_section_display": true,
   "toc_window_display": true
  },
  "varInspector": {
   "cols": {
    "lenName": 16,
    "lenType": 16,
    "lenVar": 40
   },
   "kernels_config": {
    "python": {
     "delete_cmd_postfix": "",
     "delete_cmd_prefix": "del ",
     "library": "var_list.py",
     "varRefreshCmd": "print(var_dic_list())"
    },
    "r": {
     "delete_cmd_postfix": ") ",
     "delete_cmd_prefix": "rm(",
     "library": "var_list.r",
     "varRefreshCmd": "cat(var_dic_list()) "
    }
   },
   "types_to_exclude": [
    "module",
    "function",
    "builtin_function_or_method",
    "instance",
    "_Feature"
   ],
   "window_display": false
  }
 },
 "nbformat": 4,
 "nbformat_minor": 5
}
